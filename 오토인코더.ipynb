{
  "nbformat": 4,
  "nbformat_minor": 0,
  "metadata": {
    "colab": {
      "provenance": [],
      "authorship_tag": "ABX9TyPT7L0LjFd4eUKWBLaMUK1p",
      "include_colab_link": true
    },
    "kernelspec": {
      "name": "python3",
      "display_name": "Python 3"
    },
    "language_info": {
      "name": "python"
    },
    "accelerator": "GPU",
    "gpuClass": "standard"
  },
  "cells": [
    {
      "cell_type": "markdown",
      "metadata": {
        "id": "view-in-github",
        "colab_type": "text"
      },
      "source": [
        "<a href=\"https://colab.research.google.com/github/NaHyeonMaeng/CODE_Practice/blob/main/%EC%98%A4%ED%86%A0%EC%9D%B8%EC%BD%94%EB%8D%94.ipynb\" target=\"_parent\"><img src=\"https://colab.research.google.com/assets/colab-badge.svg\" alt=\"Open In Colab\"/></a>"
      ]
    },
    {
      "cell_type": "code",
      "execution_count": null,
      "metadata": {
        "colab": {
          "base_uri": "https://localhost:8080/"
        },
        "id": "tHcgnkhZ8PUJ",
        "outputId": "942a84d3-5f25-41ab-fb1a-b9e2bea11af3"
      },
      "outputs": [
        {
          "output_type": "stream",
          "name": "stdout",
          "text": [
            "Mounted at /gdrive\n"
          ]
        }
      ],
      "source": [
        "#라이브러리 설정\n",
        "import pandas as pd\n",
        "import numpy as np\n",
        "import tensorflow as tf\n",
        "import random\n",
        "\n",
        "#랜덤 시드 고정\n",
        "SEED = 12\n",
        "random.seed(SEED)\n",
        "np.random.seed(SEED)\n",
        "tf.random.set_seed(SEED)\n",
        "\n",
        "#구글 드라이브 폴더 마운트\n",
        "from google.colab import drive, files\n",
        "drive.mount('/gdrive')"
      ]
    },
    {
      "cell_type": "code",
      "source": [
        "#데이콘 사이트에서 다운로드한 csv 파일 읽어오기\n",
        "drive_path = \"/gdrive/My Drive/\"\n",
        "train = pd.read_csv(drive_path + \"mnist_data/train.csv\")\n",
        "test = pd.read_csv(drive_path + \"mnist_data/test.csv\")\n",
        "submission = pd.read_csv(drive_path + \"mnist_data/sample_submission.csv\")\n",
        "\n",
        "print(train.shape, test.shape, submission.shape)"
      ],
      "metadata": {
        "colab": {
          "base_uri": "https://localhost:8080/"
        },
        "id": "S-Dtxq1J8rWH",
        "outputId": "2f11f0cc-f926-4086-981d-d03240f176b5"
      },
      "execution_count": null,
      "outputs": [
        {
          "output_type": "stream",
          "name": "stdout",
          "text": [
            "(60000, 786) (10000, 785) (10000, 2)\n"
          ]
        }
      ]
    },
    {
      "cell_type": "code",
      "source": [
        "train.head()"
      ],
      "metadata": {
        "id": "Cl552udF_dhP",
        "colab": {
          "base_uri": "https://localhost:8080/",
          "height": 299
        },
        "outputId": "7b66c661-81cb-4513-ba0e-479ab9aacf97"
      },
      "execution_count": null,
      "outputs": [
        {
          "output_type": "execute_result",
          "data": {
            "text/plain": [
              "   index  label  pixel1  pixel2  pixel3  pixel4  pixel5  pixel6  pixel7  \\\n",
              "0      0      2       0       0       0       0       0       0       0   \n",
              "1      1      9       0       0       0       0       0       0       0   \n",
              "2      2      6       0       0       0       0       0       0       0   \n",
              "3      3      0       0       0       0       1       2       0       0   \n",
              "4      4      3       0       0       0       0       0       0       0   \n",
              "\n",
              "   pixel8  ...  pixel775  pixel776  pixel777  pixel778  pixel779  pixel780  \\\n",
              "0       0  ...         0         0         0         0         0         0   \n",
              "1       0  ...         0         0         0         0         0         0   \n",
              "2       5  ...         0         0         0        30        43         0   \n",
              "3       0  ...         3         0         0         0         0         1   \n",
              "4       0  ...         0         0         0         0         0         0   \n",
              "\n",
              "   pixel781  pixel782  pixel783  pixel784  \n",
              "0         0         0         0         0  \n",
              "1         0         0         0         0  \n",
              "2         0         0         0         0  \n",
              "3         0         0         0         0  \n",
              "4         0         0         0         0  \n",
              "\n",
              "[5 rows x 786 columns]"
            ],
            "text/html": [
              "\n",
              "  <div id=\"df-98a6c001-2430-45d8-b61e-23259c548c82\">\n",
              "    <div class=\"colab-df-container\">\n",
              "      <div>\n",
              "<style scoped>\n",
              "    .dataframe tbody tr th:only-of-type {\n",
              "        vertical-align: middle;\n",
              "    }\n",
              "\n",
              "    .dataframe tbody tr th {\n",
              "        vertical-align: top;\n",
              "    }\n",
              "\n",
              "    .dataframe thead th {\n",
              "        text-align: right;\n",
              "    }\n",
              "</style>\n",
              "<table border=\"1\" class=\"dataframe\">\n",
              "  <thead>\n",
              "    <tr style=\"text-align: right;\">\n",
              "      <th></th>\n",
              "      <th>index</th>\n",
              "      <th>label</th>\n",
              "      <th>pixel1</th>\n",
              "      <th>pixel2</th>\n",
              "      <th>pixel3</th>\n",
              "      <th>pixel4</th>\n",
              "      <th>pixel5</th>\n",
              "      <th>pixel6</th>\n",
              "      <th>pixel7</th>\n",
              "      <th>pixel8</th>\n",
              "      <th>...</th>\n",
              "      <th>pixel775</th>\n",
              "      <th>pixel776</th>\n",
              "      <th>pixel777</th>\n",
              "      <th>pixel778</th>\n",
              "      <th>pixel779</th>\n",
              "      <th>pixel780</th>\n",
              "      <th>pixel781</th>\n",
              "      <th>pixel782</th>\n",
              "      <th>pixel783</th>\n",
              "      <th>pixel784</th>\n",
              "    </tr>\n",
              "  </thead>\n",
              "  <tbody>\n",
              "    <tr>\n",
              "      <th>0</th>\n",
              "      <td>0</td>\n",
              "      <td>2</td>\n",
              "      <td>0</td>\n",
              "      <td>0</td>\n",
              "      <td>0</td>\n",
              "      <td>0</td>\n",
              "      <td>0</td>\n",
              "      <td>0</td>\n",
              "      <td>0</td>\n",
              "      <td>0</td>\n",
              "      <td>...</td>\n",
              "      <td>0</td>\n",
              "      <td>0</td>\n",
              "      <td>0</td>\n",
              "      <td>0</td>\n",
              "      <td>0</td>\n",
              "      <td>0</td>\n",
              "      <td>0</td>\n",
              "      <td>0</td>\n",
              "      <td>0</td>\n",
              "      <td>0</td>\n",
              "    </tr>\n",
              "    <tr>\n",
              "      <th>1</th>\n",
              "      <td>1</td>\n",
              "      <td>9</td>\n",
              "      <td>0</td>\n",
              "      <td>0</td>\n",
              "      <td>0</td>\n",
              "      <td>0</td>\n",
              "      <td>0</td>\n",
              "      <td>0</td>\n",
              "      <td>0</td>\n",
              "      <td>0</td>\n",
              "      <td>...</td>\n",
              "      <td>0</td>\n",
              "      <td>0</td>\n",
              "      <td>0</td>\n",
              "      <td>0</td>\n",
              "      <td>0</td>\n",
              "      <td>0</td>\n",
              "      <td>0</td>\n",
              "      <td>0</td>\n",
              "      <td>0</td>\n",
              "      <td>0</td>\n",
              "    </tr>\n",
              "    <tr>\n",
              "      <th>2</th>\n",
              "      <td>2</td>\n",
              "      <td>6</td>\n",
              "      <td>0</td>\n",
              "      <td>0</td>\n",
              "      <td>0</td>\n",
              "      <td>0</td>\n",
              "      <td>0</td>\n",
              "      <td>0</td>\n",
              "      <td>0</td>\n",
              "      <td>5</td>\n",
              "      <td>...</td>\n",
              "      <td>0</td>\n",
              "      <td>0</td>\n",
              "      <td>0</td>\n",
              "      <td>30</td>\n",
              "      <td>43</td>\n",
              "      <td>0</td>\n",
              "      <td>0</td>\n",
              "      <td>0</td>\n",
              "      <td>0</td>\n",
              "      <td>0</td>\n",
              "    </tr>\n",
              "    <tr>\n",
              "      <th>3</th>\n",
              "      <td>3</td>\n",
              "      <td>0</td>\n",
              "      <td>0</td>\n",
              "      <td>0</td>\n",
              "      <td>0</td>\n",
              "      <td>1</td>\n",
              "      <td>2</td>\n",
              "      <td>0</td>\n",
              "      <td>0</td>\n",
              "      <td>0</td>\n",
              "      <td>...</td>\n",
              "      <td>3</td>\n",
              "      <td>0</td>\n",
              "      <td>0</td>\n",
              "      <td>0</td>\n",
              "      <td>0</td>\n",
              "      <td>1</td>\n",
              "      <td>0</td>\n",
              "      <td>0</td>\n",
              "      <td>0</td>\n",
              "      <td>0</td>\n",
              "    </tr>\n",
              "    <tr>\n",
              "      <th>4</th>\n",
              "      <td>4</td>\n",
              "      <td>3</td>\n",
              "      <td>0</td>\n",
              "      <td>0</td>\n",
              "      <td>0</td>\n",
              "      <td>0</td>\n",
              "      <td>0</td>\n",
              "      <td>0</td>\n",
              "      <td>0</td>\n",
              "      <td>0</td>\n",
              "      <td>...</td>\n",
              "      <td>0</td>\n",
              "      <td>0</td>\n",
              "      <td>0</td>\n",
              "      <td>0</td>\n",
              "      <td>0</td>\n",
              "      <td>0</td>\n",
              "      <td>0</td>\n",
              "      <td>0</td>\n",
              "      <td>0</td>\n",
              "      <td>0</td>\n",
              "    </tr>\n",
              "  </tbody>\n",
              "</table>\n",
              "<p>5 rows × 786 columns</p>\n",
              "</div>\n",
              "      <button class=\"colab-df-convert\" onclick=\"convertToInteractive('df-98a6c001-2430-45d8-b61e-23259c548c82')\"\n",
              "              title=\"Convert this dataframe to an interactive table.\"\n",
              "              style=\"display:none;\">\n",
              "        \n",
              "  <svg xmlns=\"http://www.w3.org/2000/svg\" height=\"24px\"viewBox=\"0 0 24 24\"\n",
              "       width=\"24px\">\n",
              "    <path d=\"M0 0h24v24H0V0z\" fill=\"none\"/>\n",
              "    <path d=\"M18.56 5.44l.94 2.06.94-2.06 2.06-.94-2.06-.94-.94-2.06-.94 2.06-2.06.94zm-11 1L8.5 8.5l.94-2.06 2.06-.94-2.06-.94L8.5 2.5l-.94 2.06-2.06.94zm10 10l.94 2.06.94-2.06 2.06-.94-2.06-.94-.94-2.06-.94 2.06-2.06.94z\"/><path d=\"M17.41 7.96l-1.37-1.37c-.4-.4-.92-.59-1.43-.59-.52 0-1.04.2-1.43.59L10.3 9.45l-7.72 7.72c-.78.78-.78 2.05 0 2.83L4 21.41c.39.39.9.59 1.41.59.51 0 1.02-.2 1.41-.59l7.78-7.78 2.81-2.81c.8-.78.8-2.07 0-2.86zM5.41 20L4 18.59l7.72-7.72 1.47 1.35L5.41 20z\"/>\n",
              "  </svg>\n",
              "      </button>\n",
              "      \n",
              "  <style>\n",
              "    .colab-df-container {\n",
              "      display:flex;\n",
              "      flex-wrap:wrap;\n",
              "      gap: 12px;\n",
              "    }\n",
              "\n",
              "    .colab-df-convert {\n",
              "      background-color: #E8F0FE;\n",
              "      border: none;\n",
              "      border-radius: 50%;\n",
              "      cursor: pointer;\n",
              "      display: none;\n",
              "      fill: #1967D2;\n",
              "      height: 32px;\n",
              "      padding: 0 0 0 0;\n",
              "      width: 32px;\n",
              "    }\n",
              "\n",
              "    .colab-df-convert:hover {\n",
              "      background-color: #E2EBFA;\n",
              "      box-shadow: 0px 1px 2px rgba(60, 64, 67, 0.3), 0px 1px 3px 1px rgba(60, 64, 67, 0.15);\n",
              "      fill: #174EA6;\n",
              "    }\n",
              "\n",
              "    [theme=dark] .colab-df-convert {\n",
              "      background-color: #3B4455;\n",
              "      fill: #D2E3FC;\n",
              "    }\n",
              "\n",
              "    [theme=dark] .colab-df-convert:hover {\n",
              "      background-color: #434B5C;\n",
              "      box-shadow: 0px 1px 3px 1px rgba(0, 0, 0, 0.15);\n",
              "      filter: drop-shadow(0px 1px 2px rgba(0, 0, 0, 0.3));\n",
              "      fill: #FFFFFF;\n",
              "    }\n",
              "  </style>\n",
              "\n",
              "      <script>\n",
              "        const buttonEl =\n",
              "          document.querySelector('#df-98a6c001-2430-45d8-b61e-23259c548c82 button.colab-df-convert');\n",
              "        buttonEl.style.display =\n",
              "          google.colab.kernel.accessAllowed ? 'block' : 'none';\n",
              "\n",
              "        async function convertToInteractive(key) {\n",
              "          const element = document.querySelector('#df-98a6c001-2430-45d8-b61e-23259c548c82');\n",
              "          const dataTable =\n",
              "            await google.colab.kernel.invokeFunction('convertToInteractive',\n",
              "                                                     [key], {});\n",
              "          if (!dataTable) return;\n",
              "\n",
              "          const docLinkHtml = 'Like what you see? Visit the ' +\n",
              "            '<a target=\"_blank\" href=https://colab.research.google.com/notebooks/data_table.ipynb>data table notebook</a>'\n",
              "            + ' to learn more about interactive tables.';\n",
              "          element.innerHTML = '';\n",
              "          dataTable['output_type'] = 'display_data';\n",
              "          await google.colab.output.renderOutput(dataTable, element);\n",
              "          const docLink = document.createElement('div');\n",
              "          docLink.innerHTML = docLinkHtml;\n",
              "          element.appendChild(docLink);\n",
              "        }\n",
              "      </script>\n",
              "    </div>\n",
              "  </div>\n",
              "  "
            ]
          },
          "metadata": {},
          "execution_count": 4
        }
      ]
    },
    {
      "cell_type": "code",
      "source": [
        "train_images = train.loc[:, 'pixel1':].values.reshape(-1,28,28)\n",
        "train_images.shape"
      ],
      "metadata": {
        "colab": {
          "base_uri": "https://localhost:8080/"
        },
        "id": "LNi4VqKcvYir",
        "outputId": "82a6cc76-32fc-4c74-bc24-3341ea5038c8"
      },
      "execution_count": null,
      "outputs": [
        {
          "output_type": "execute_result",
          "data": {
            "text/plain": [
              "(60000, 28, 28)"
            ]
          },
          "metadata": {},
          "execution_count": 5
        }
      ]
    },
    {
      "cell_type": "code",
      "source": [
        "import matplotlib.pyplot as plt\n",
        "plt.imshow(train_images[0]);"
      ],
      "metadata": {
        "colab": {
          "base_uri": "https://localhost:8080/",
          "height": 265
        },
        "id": "7xRwuLCGwxWB",
        "outputId": "d0a83e81-d7e8-4c2c-f10b-ee93975bafb5"
      },
      "execution_count": null,
      "outputs": [
        {
          "output_type": "display_data",
          "data": {
            "text/plain": [
              "<Figure size 432x288 with 1 Axes>"
            ],
            "image/png": "[encoded data removed]"
          },
          "metadata": {
            "needs_background": "light"
          }
        }
      ]
    },
    {
      "cell_type": "code",
      "source": [
        "y_train = train.loc[:, 'label']\n",
        "y_train.unique()"
      ],
      "metadata": {
        "colab": {
          "base_uri": "https://localhost:8080/"
        },
        "id": "IQmBXNPozpLN",
        "outputId": "c22ca125-7b33-4d5b-f106-20d195516fe5"
      },
      "execution_count": null,
      "outputs": [
        {
          "output_type": "execute_result",
          "data": {
            "text/plain": [
              "array([2, 9, 6, 0, 3, 4, 5, 8, 7, 1])"
            ]
          },
          "metadata": {},
          "execution_count": 7
        }
      ]
    },
    {
      "cell_type": "code",
      "source": [
        "target_values = {0: 'T-shirt/top', 1:'Trouser', 2:'Pullover', 3:'Dress', 4:'Coat', 5:'Sandal', 6:'Shirt', 7:'Sneaker', 8:'Bag', 9:'Ankle boot'}\n",
        "print(y_train[0])\n",
        "print(target_values[y_train[0]])"
      ],
      "metadata": {
        "colab": {
          "base_uri": "https://localhost:8080/"
        },
        "id": "rFK38J5-z7NJ",
        "outputId": "405f3499-f247-4aef-afa1-85a2799e3f10"
      },
      "execution_count": null,
      "outputs": [
        {
          "output_type": "stream",
          "name": "stdout",
          "text": [
            "2\n",
            "Pullover\n"
          ]
        }
      ]
    },
    {
      "cell_type": "code",
      "source": [
        "test_images = test.loc[:,'pixel1':].values.reshape(-1, 28, 28, 1)\n",
        "test_images.shape"
      ],
      "metadata": {
        "colab": {
          "base_uri": "https://localhost:8080/"
        },
        "id": "TcDjqAdt1p4D",
        "outputId": "a0f14d44-d99b-4b23-af3a-76515ddffc2f"
      },
      "execution_count": null,
      "outputs": [
        {
          "output_type": "execute_result",
          "data": {
            "text/plain": [
              "(10000, 28, 28, 1)"
            ]
          },
          "metadata": {},
          "execution_count": 13
        }
      ]
    },
    {
      "cell_type": "code",
      "source": [
        "x_train = train_images / 255.\n",
        "x_test = test_images / 255.\n",
        "print(\"최소값:\", x_train[0].min())\n",
        "print(\"최댓값:\", x_train[0].max())"
      ],
      "metadata": {
        "colab": {
          "base_uri": "https://localhost:8080/"
        },
        "id": "VX-NHi_12lco",
        "outputId": "30d94382-fe22-42ea-feeb-ee17a2eb6dad"
      },
      "execution_count": null,
      "outputs": [
        {
          "output_type": "stream",
          "name": "stdout",
          "text": [
            "최소값: 0.0\n",
            "최댓값: 1.0\n"
          ]
        }
      ]
    },
    {
      "cell_type": "code",
      "source": [
        "#채널 차원 추가\n",
        "print(\"변환 전:\", x_train.shape, x_test.shape)\n",
        "x_train = np.expand_dims(x_train, axis = -1)\n",
        "x_tset = np.expand_dims(x_test, axis = -1)\n",
        "print(\"변환 후:\", x_train.shape, x_test.shape)"
      ],
      "metadata": {
        "colab": {
          "base_uri": "https://localhost:8080/"
        },
        "id": "wPXmHWB54bv3",
        "outputId": "9ea5a271-12fb-4ba2-d97b-51b80634959a"
      },
      "execution_count": null,
      "outputs": [
        {
          "output_type": "stream",
          "name": "stdout",
          "text": [
            "변환 전: (60000, 28, 28) (10000, 28, 28, 1)\n",
            "변환 후: (60000, 28, 28, 1) (10000, 28, 28, 1)\n"
          ]
        }
      ]
    },
    {
      "cell_type": "code",
      "source": [
        "from sklearn.model_selection import train_test_split\n",
        "x_tr, x_val, y_tr, y_val = train_test_split(x_train, y_train, test_size = 0.2, stratify = y_train, shuffle = True, random_state = SEED)\n",
        "print(\"학습 데이터셋 크기:\", x_tr.shape, y_tr.shape)\n",
        "print(\"검증 데이터셋 크기:\", x_val.shape, y_val.shape)"
      ],
      "metadata": {
        "colab": {
          "base_uri": "https://localhost:8080/"
        },
        "id": "T2-O4rX_7Kxc",
        "outputId": "31377eb1-9416-44d8-d92e-bb94d104ded2"
      },
      "execution_count": null,
      "outputs": [
        {
          "output_type": "stream",
          "name": "stdout",
          "text": [
            "학습 데이터셋 크기: (48000, 28, 28, 1) (48000,)\n",
            "검증 데이터셋 크기: (12000, 28, 28, 1) (12000,)\n"
          ]
        }
      ]
    },
    {
      "cell_type": "code",
      "source": [
        "from tensorflow.keras.models import Sequential\n",
        "from tensorflow.keras.layers import Flatten, Dense\n",
        "mlp_model = Sequential()\n",
        "mlp_model.add(Flatten(input_shape = [28,28]))\n",
        "mlp_model.add(Dense(units=64, activation = 'relu'))\n",
        "mlp_model.add(Dense(units=10, activation = 'softmax'))\n",
        "mlp_model.compile(optimizer = 'adam', loss = 'sparse_categorical_crossentropy', metrics = ['acc'])\n",
        "mlp_model.summary()"
      ],
      "metadata": {
        "colab": {
          "base_uri": "https://localhost:8080/"
        },
        "id": "raiHNC5L92-U",
        "outputId": "f16f1ad0-d247-42cd-a9fc-7494708f5b36"
      },
      "execution_count": null,
      "outputs": [
        {
          "output_type": "stream",
          "name": "stdout",
          "text": [
            "Model: \"sequential\"\n",
            "_________________________________________________________________\n",
            " Layer (type)                Output Shape              Param #   \n",
            "=================================================================\n",
            " flatten (Flatten)           (None, 784)               0         \n",
            "                                                                 \n",
            " dense (Dense)               (None, 64)                50240     \n",
            "                                                                 \n",
            " dense_1 (Dense)             (None, 10)                650       \n",
            "                                                                 \n",
            "=================================================================\n",
            "Total params: 50,890\n",
            "Trainable params: 50,890\n",
            "Non-trainable params: 0\n",
            "_________________________________________________________________\n"
          ]
        }
      ]
    },
    {
      "cell_type": "code",
      "source": [
        "mlp_history = mlp_model.fit(x_tr, y_tr, batch_size = 64, epochs = 20, validation_data = (x_val, y_val), verbose = 2)"
      ],
      "metadata": {
        "id": "TUeBMX4kA2YK",
        "colab": {
          "base_uri": "https://localhost:8080/"
        },
        "outputId": "db16285e-ac79-46c5-e190-19dda1791423"
      },
      "execution_count": null,
      "outputs": [
        {
          "output_type": "stream",
          "name": "stdout",
          "text": [
            "Epoch 1/20\n",
            "750/750 - 4s - loss: 0.5708 - acc: 0.8030 - val_loss: 0.4541 - val_acc: 0.8406 - 4s/epoch - 5ms/step\n",
            "Epoch 2/20\n",
            "750/750 - 4s - loss: 0.4202 - acc: 0.8516 - val_loss: 0.3975 - val_acc: 0.8601 - 4s/epoch - 6ms/step\n",
            "Epoch 3/20\n",
            "750/750 - 3s - loss: 0.3842 - acc: 0.8635 - val_loss: 0.3922 - val_acc: 0.8631 - 3s/epoch - 4ms/step\n",
            "Epoch 4/20\n",
            "750/750 - 3s - loss: 0.3605 - acc: 0.8714 - val_loss: 0.3927 - val_acc: 0.8614 - 3s/epoch - 4ms/step\n",
            "Epoch 5/20\n",
            "750/750 - 3s - loss: 0.3427 - acc: 0.8765 - val_loss: 0.3712 - val_acc: 0.8708 - 3s/epoch - 4ms/step\n",
            "Epoch 6/20\n",
            "750/750 - 5s - loss: 0.3276 - acc: 0.8826 - val_loss: 0.3545 - val_acc: 0.8784 - 5s/epoch - 7ms/step\n",
            "Epoch 7/20\n",
            "750/750 - 3s - loss: 0.3149 - acc: 0.8861 - val_loss: 0.3454 - val_acc: 0.8777 - 3s/epoch - 4ms/step\n",
            "Epoch 8/20\n",
            "750/750 - 4s - loss: 0.3030 - acc: 0.8900 - val_loss: 0.3534 - val_acc: 0.8735 - 4s/epoch - 5ms/step\n",
            "Epoch 9/20\n",
            "750/750 - 5s - loss: 0.2935 - acc: 0.8925 - val_loss: 0.3425 - val_acc: 0.8813 - 5s/epoch - 6ms/step\n",
            "Epoch 10/20\n",
            "750/750 - 4s - loss: 0.2863 - acc: 0.8952 - val_loss: 0.3614 - val_acc: 0.8761 - 4s/epoch - 6ms/step\n",
            "Epoch 11/20\n",
            "750/750 - 3s - loss: 0.2783 - acc: 0.8969 - val_loss: 0.3439 - val_acc: 0.8779 - 3s/epoch - 4ms/step\n",
            "Epoch 12/20\n",
            "750/750 - 4s - loss: 0.2713 - acc: 0.9002 - val_loss: 0.3411 - val_acc: 0.8834 - 4s/epoch - 5ms/step\n",
            "Epoch 13/20\n",
            "750/750 - 7s - loss: 0.2641 - acc: 0.9027 - val_loss: 0.3357 - val_acc: 0.8827 - 7s/epoch - 9ms/step\n",
            "Epoch 14/20\n",
            "750/750 - 4s - loss: 0.2563 - acc: 0.9055 - val_loss: 0.3273 - val_acc: 0.8881 - 4s/epoch - 5ms/step\n",
            "Epoch 15/20\n",
            "750/750 - 4s - loss: 0.2533 - acc: 0.9058 - val_loss: 0.3348 - val_acc: 0.8838 - 4s/epoch - 5ms/step\n",
            "Epoch 16/20\n",
            "750/750 - 4s - loss: 0.2457 - acc: 0.9097 - val_loss: 0.3235 - val_acc: 0.8889 - 4s/epoch - 5ms/step\n",
            "Epoch 17/20\n",
            "750/750 - 4s - loss: 0.2415 - acc: 0.9104 - val_loss: 0.3408 - val_acc: 0.8835 - 4s/epoch - 5ms/step\n",
            "Epoch 18/20\n",
            "750/750 - 3s - loss: 0.2360 - acc: 0.9130 - val_loss: 0.3291 - val_acc: 0.8853 - 3s/epoch - 4ms/step\n",
            "Epoch 19/20\n",
            "750/750 - 5s - loss: 0.2333 - acc: 0.9143 - val_loss: 0.3289 - val_acc: 0.8883 - 5s/epoch - 6ms/step\n",
            "Epoch 20/20\n",
            "750/750 - 6s - loss: 0.2249 - acc: 0.9160 - val_loss: 0.3518 - val_acc: 0.8827 - 6s/epoch - 8ms/step\n"
          ]
        }
      ]
    },
    {
      "cell_type": "code",
      "source": [
        "# 손실실함수 그래프\n",
        "\n",
        "def plot_loss_curve(history, total_epoch = 10, start = 1):\n",
        "  plt.figure(figsize = (5,5))\n",
        "  plt.plot(range(start, total_epoch + 1), history.history['loss'][start-1: total_epoch], label = 'Train')\n",
        "\n",
        "  plt.plot(range(start, total_epoch + 1), history.history['val_loss'][start-1:total_epoch], label = 'Validation')\n",
        "\n",
        "  plt.xlabel('Epochs')\n",
        "  plt.ylabel('Loss')\n",
        "  plt.legend()\n",
        "  plt.show()\n",
        "\n",
        "plot_loss_curve(history=mlp_history, total_epoch=20, start =1)\n"
      ],
      "metadata": {
        "colab": {
          "base_uri": "https://localhost:8080/",
          "height": 334
        },
        "id": "7pf2ujCNneBG",
        "outputId": "4eb02b91-6a98-45ef-d6a6-0dcdaefcd422"
      },
      "execution_count": null,
      "outputs": [
        {
          "output_type": "display_data",
          "data": {
            "text/plain": [
              "<Figure size 360x360 with 1 Axes>"
            ],
            "image/png": "[encoded data removed]"
          },
          "metadata": {
            "needs_background": "light"
          }
        }
      ]
    },
    {
      "cell_type": "code",
      "source": [
        "from tensorflow.keras.layers import Conv2D, MaxPooling2D\n",
        "cnn_model = Sequential()\n",
        "cnn_model.add(Conv2D(filters=16, kernel_size = (3,3), activation = 'relu', input_shape=[28,28,1]))\n",
        "cnn_model.add(MaxPooling2D(pool_size=(2,2)))\n",
        "cnn_model.add(Flatten())\n",
        "cnn_model.add(Dense(units=64, activation='relu'))\n",
        "cnn_model.add(Dense(units=10, activation='softmax'))\n",
        "\n",
        "cnn_model.compile(optimizer = 'adam', loss = 'sparse_categorical_crossentropy', metrics = ['acc'])\n",
        "cnn_model.summary()"
      ],
      "metadata": {
        "colab": {
          "base_uri": "https://localhost:8080/"
        },
        "id": "gEPGrD7Fp9L3",
        "outputId": "b35987f2-4c8a-4819-9358-a9d4db0f78ad"
      },
      "execution_count": null,
      "outputs": [
        {
          "output_type": "stream",
          "name": "stdout",
          "text": [
            "Model: \"sequential_2\"\n",
            "_________________________________________________________________\n",
            " Layer (type)                Output Shape              Param #   \n",
            "=================================================================\n",
            " conv2d_1 (Conv2D)           (None, 26, 26, 16)        160       \n",
            "                                                                 \n",
            " max_pooling2d_1 (MaxPooling  (None, 13, 13, 16)       0         \n",
            " 2D)                                                             \n",
            "                                                                 \n",
            " flatten_2 (Flatten)         (None, 2704)              0         \n",
            "                                                                 \n",
            " dense_4 (Dense)             (None, 64)                173120    \n",
            "                                                                 \n",
            " dense_5 (Dense)             (None, 10)                650       \n",
            "                                                                 \n",
            "=================================================================\n",
            "Total params: 173,930\n",
            "Trainable params: 173,930\n",
            "Non-trainable params: 0\n",
            "_________________________________________________________________\n"
          ]
        }
      ]
    },
    {
      "cell_type": "code",
      "source": [
        "cnn_history = cnn_model.fit(x_tr, y_tr, batch_size = 64, epochs = 20, validation_data = (x_val, y_val), verbose=2)"
      ],
      "metadata": {
        "colab": {
          "base_uri": "https://localhost:8080/"
        },
        "id": "XC1I42sX1J4S",
        "outputId": "f8df4a03-e0e3-4c94-c6b6-e6aab469dde6"
      },
      "execution_count": null,
      "outputs": [
        {
          "output_type": "stream",
          "name": "stdout",
          "text": [
            "Epoch 1/20\n",
            "750/750 - 19s - loss: 0.4743 - acc: 0.8365 - val_loss: 0.3534 - val_acc: 0.8768 - 19s/epoch - 26ms/step\n",
            "Epoch 2/20\n",
            "750/750 - 21s - loss: 0.3202 - acc: 0.8868 - val_loss: 0.3037 - val_acc: 0.8935 - 21s/epoch - 28ms/step\n",
            "Epoch 3/20\n",
            "750/750 - 19s - loss: 0.2789 - acc: 0.8996 - val_loss: 0.2903 - val_acc: 0.8983 - 19s/epoch - 26ms/step\n",
            "Epoch 4/20\n",
            "750/750 - 19s - loss: 0.2506 - acc: 0.9093 - val_loss: 0.2785 - val_acc: 0.8985 - 19s/epoch - 26ms/step\n",
            "Epoch 5/20\n",
            "750/750 - 23s - loss: 0.2287 - acc: 0.9161 - val_loss: 0.2805 - val_acc: 0.9023 - 23s/epoch - 31ms/step\n",
            "Epoch 6/20\n",
            "750/750 - 26s - loss: 0.2109 - acc: 0.9240 - val_loss: 0.2628 - val_acc: 0.9066 - 26s/epoch - 34ms/step\n",
            "Epoch 7/20\n",
            "750/750 - 18s - loss: 0.1912 - acc: 0.9311 - val_loss: 0.2618 - val_acc: 0.9053 - 18s/epoch - 24ms/step\n",
            "Epoch 8/20\n",
            "750/750 - 19s - loss: 0.1756 - acc: 0.9360 - val_loss: 0.2560 - val_acc: 0.9078 - 19s/epoch - 26ms/step\n",
            "Epoch 9/20\n",
            "750/750 - 24s - loss: 0.1646 - acc: 0.9400 - val_loss: 0.2484 - val_acc: 0.9128 - 24s/epoch - 32ms/step\n",
            "Epoch 10/20\n",
            "750/750 - 22s - loss: 0.1528 - acc: 0.9442 - val_loss: 0.2543 - val_acc: 0.9130 - 22s/epoch - 30ms/step\n",
            "Epoch 11/20\n",
            "750/750 - 18s - loss: 0.1406 - acc: 0.9481 - val_loss: 0.2617 - val_acc: 0.9122 - 18s/epoch - 24ms/step\n",
            "Epoch 12/20\n",
            "750/750 - 19s - loss: 0.1332 - acc: 0.9524 - val_loss: 0.2986 - val_acc: 0.9004 - 19s/epoch - 26ms/step\n",
            "Epoch 13/20\n",
            "750/750 - 21s - loss: 0.1182 - acc: 0.9576 - val_loss: 0.2697 - val_acc: 0.9101 - 21s/epoch - 28ms/step\n",
            "Epoch 14/20\n",
            "750/750 - 19s - loss: 0.1093 - acc: 0.9611 - val_loss: 0.2725 - val_acc: 0.9125 - 19s/epoch - 26ms/step\n",
            "Epoch 15/20\n",
            "750/750 - 24s - loss: 0.0999 - acc: 0.9641 - val_loss: 0.2741 - val_acc: 0.9143 - 24s/epoch - 31ms/step\n",
            "Epoch 16/20\n",
            "750/750 - 18s - loss: 0.0930 - acc: 0.9669 - val_loss: 0.2872 - val_acc: 0.9094 - 18s/epoch - 24ms/step\n",
            "Epoch 17/20\n",
            "750/750 - 18s - loss: 0.0858 - acc: 0.9690 - val_loss: 0.3033 - val_acc: 0.9112 - 18s/epoch - 24ms/step\n",
            "Epoch 18/20\n",
            "750/750 - 22s - loss: 0.0774 - acc: 0.9722 - val_loss: 0.2976 - val_acc: 0.9133 - 22s/epoch - 29ms/step\n",
            "Epoch 19/20\n",
            "750/750 - 19s - loss: 0.0736 - acc: 0.9743 - val_loss: 0.3222 - val_acc: 0.9109 - 19s/epoch - 26ms/step\n",
            "Epoch 20/20\n",
            "750/750 - 18s - loss: 0.0635 - acc: 0.9783 - val_loss: 0.3445 - val_acc: 0.9119 - 18s/epoch - 25ms/step\n"
          ]
        }
      ]
    },
    {
      "cell_type": "code",
      "source": [
        "# 손실함수 그래프\n",
        "plot_loss_curve(history=cnn_history, total_epoch=20, start=1)"
      ],
      "metadata": {
        "colab": {
          "base_uri": "https://localhost:8080/",
          "height": 334
        },
        "id": "oCNG_flh1tVF",
        "outputId": "a845dcef-d2ed-4c87-cdc8-176d421db3df"
      },
      "execution_count": null,
      "outputs": [
        {
          "output_type": "display_data",
          "data": {
            "text/plain": [
              "<Figure size 360x360 with 1 Axes>"
            ],
            "image/png": "[encoded data removed]"
          },
          "metadata": {
            "needs_background": "light"
          }
        }
      ]
    },
    {
      "cell_type": "code",
      "source": [
        "# 드람아웃 레이어 추가하기\n",
        "from tensorflow.keras.layers import Dropout\n",
        "def build_cnn():\n",
        "  model = Sequential()\n",
        "  model.add(Conv2D(filters=16, kernel_size = (3,3), activation = 'relu', input_shape = [28,28,1]))\n",
        "  model.add(MaxPooling2D(pool_size=(2,2)))\n",
        "  model.add(Flatten())\n",
        "  model.add(Dense(units=64, activation = 'relu'))\n",
        "  model.add(Dropout(rate=0.5))\n",
        "  model.add(Dense(units=10, activation = 'softmax'))\n",
        "\n",
        "  model.compile(optimizer = 'adam', loss ='sparse_categorical_crossentropy', metrics = ['acc'])\n",
        "  return model\n",
        "\n",
        "cnn_model = build_cnn()\n",
        "cnn_model.summary()"
      ],
      "metadata": {
        "colab": {
          "base_uri": "https://localhost:8080/"
        },
        "id": "nq4ILAOj3j1A",
        "outputId": "3ec6006d-1640-492c-eb55-12a93e394c64"
      },
      "execution_count": null,
      "outputs": [
        {
          "output_type": "stream",
          "name": "stdout",
          "text": [
            "Model: \"sequential_4\"\n",
            "_________________________________________________________________\n",
            " Layer (type)                Output Shape              Param #   \n",
            "=================================================================\n",
            " conv2d_2 (Conv2D)           (None, 26, 26, 16)        160       \n",
            "                                                                 \n",
            " max_pooling2d_2 (MaxPooling  (None, 13, 13, 16)       0         \n",
            " 2D)                                                             \n",
            "                                                                 \n",
            " flatten_3 (Flatten)         (None, 2704)              0         \n",
            "                                                                 \n",
            " dense_6 (Dense)             (None, 64)                173120    \n",
            "                                                                 \n",
            " dropout (Dropout)           (None, 64)                0         \n",
            "                                                                 \n",
            " dense_7 (Dense)             (None, 10)                650       \n",
            "                                                                 \n",
            "=================================================================\n",
            "Total params: 173,930\n",
            "Trainable params: 173,930\n",
            "Non-trainable params: 0\n",
            "_________________________________________________________________\n"
          ]
        }
      ]
    },
    {
      "cell_type": "code",
      "source": [
        "from tensorflow.keras.callbacks import EarlyStopping\n",
        "early_stopping = EarlyStopping(monitor = 'val_loss', patience = 10)\n",
        "cnn_history = cnn_model.fit(x_tr, y_tr, batch_size = 64, epochs = 100, validation_data = (x_val, y_val), callbacks = [early_stopping], verbose = 0)"
      ],
      "metadata": {
        "id": "9sJNmXqq6wNU"
      },
      "execution_count": null,
      "outputs": []
    },
    {
      "cell_type": "code",
      "source": [
        "# 20 epoch까지 손실 함수와 정확도를 그래프로 나타내기\n",
        "start = 1\n",
        "end = 20\n",
        "\n",
        "fig, axes = plt.subplots(1, 2, figsize = (10,5))\n",
        "axes[0].plot(range(start, end+1), cnn_history.history['loss'][start-1 : end], label = 'Train')\n",
        "axes[0].plot(range(start, end+1), cnn_history.history['val_loss'][start-1 : end], label = 'Validation')\n",
        "axes[0].set_title('Loss')\n",
        "axes[0].legend()\n",
        "\n",
        "axes[1].plot(range(start, end+1), cnn_history.history['acc'][start-1:end], label = 'Train')\n",
        "axes[1].plot(range(start, end+1), cnn_history.history['val_acc'][start-1:end], label = 'Validation')\n",
        "axes[1].set_title('Accuracy')\n",
        "axes[1].legend()\n",
        "plt.show()"
      ],
      "metadata": {
        "colab": {
          "base_uri": "https://localhost:8080/",
          "height": 336
        },
        "id": "kQvvHlVd76JH",
        "outputId": "5903aa2b-d5d5-4a0e-da99-29e0acd501ef"
      },
      "execution_count": null,
      "outputs": [
        {
          "output_type": "display_data",
          "data": {
            "text/plain": [
              "<Figure size 720x360 with 2 Axes>"
            ],
            "image/png": "[encoded data removed]"
          },
          "metadata": {
            "needs_background": "light"
          }
        }
      ]
    },
    {
      "cell_type": "code",
      "source": [
        "# 검증 데이터를 입력하여 모델 성능 평가\n",
        "cnn_model.evaluate(x_val, y_val)"
      ],
      "metadata": {
        "colab": {
          "base_uri": "https://localhost:8080/"
        },
        "id": "ECywtvKA9ov4",
        "outputId": "7645f205-4cbd-4619-9bbb-13ceb7edd4ec"
      },
      "execution_count": null,
      "outputs": [
        {
          "output_type": "stream",
          "name": "stdout",
          "text": [
            "375/375 [==============================] - 4s 11ms/step - loss: 0.2787 - acc: 0.9095\n"
          ]
        },
        {
          "output_type": "execute_result",
          "data": {
            "text/plain": [
              "[0.27871841192245483, 0.909500002861023]"
            ]
          },
          "metadata": {},
          "execution_count": 40
        }
      ]
    },
    {
      "cell_type": "code",
      "source": [
        "y_pred_proba = cnn_model.predict(x_test)\n",
        "y_pred_classes = np.argmax(y_pred_proba, axis = -1)\n",
        "y_pred_classes[:10]"
      ],
      "metadata": {
        "colab": {
          "base_uri": "https://localhost:8080/"
        },
        "id": "JE3te1E1_HZD",
        "outputId": "cc445a71-9e42-4561-a2c2-4a9a6a47bcdd"
      },
      "execution_count": null,
      "outputs": [
        {
          "output_type": "stream",
          "name": "stdout",
          "text": [
            "313/313 [==============================] - 2s 7ms/step\n"
          ]
        },
        {
          "output_type": "execute_result",
          "data": {
            "text/plain": [
              "array([0, 1, 6, 6, 3, 6, 8, 6, 5, 0])"
            ]
          },
          "metadata": {},
          "execution_count": 41
        }
      ]
    },
    {
      "cell_type": "code",
      "source": [
        "submission['label'] = y_pred_classes\n",
        "submission_filepath = drive_path + 'mnist_cnn_submission1.csv'\n",
        "submission.to_csv(submission_filepath, index = False)"
      ],
      "metadata": {
        "id": "KtVmLe0eBE6E"
      },
      "execution_count": null,
      "outputs": []
    },
    {
      "cell_type": "code",
      "source": [
        "#사용자 정의 콜백 함수\n",
        "from tensorflow.keras.callbacks import Callback\n",
        "\n",
        "class my_callback(Callback):\n",
        "  def on_epoch_end(self, epoch, logs={}):\n",
        "    if(logs.get('val_acc') > 0.91):\n",
        "      self.model.stop_training = True\n",
        "      print(\"\\n\")\n",
        "      print(\"목표 정화도 달성: 검증 정확도 $.4f\" % logs.get('val_acc'))\n",
        "\n",
        "my_callback = my_callback()"
      ],
      "metadata": {
        "id": "tGuj8HG2Bplz"
      },
      "execution_count": null,
      "outputs": []
    },
    {
      "cell_type": "code",
      "source": [
        "# Best Model 저장\n",
        "from tensorflow.keras.callbacks import ModelCheckpoint\n",
        "\n",
        "best_model_path = drive_path + \"best_cnn_model.h5\"\n",
        "save_best_model = ModelCheckpoint(best_model_path, monitor = 'val_loss', save_best_only = True, save_weights_only = False)"
      ],
      "metadata": {
        "id": "VV9TYxS0GD_7"
      },
      "execution_count": null,
      "outputs": []
    },
    {
      "cell_type": "code",
      "source": [
        "# CNN 모델 학습\n",
        "cnn_model = build_cnn()\n",
        "cnn_history = cnn_model.fit(x_tr, y_tr, batch_size = 64, epochs = 30, validation_data = (x_val, y_val), callbacks=[my_callback, save_best_model], verbose =2)"
      ],
      "metadata": {
        "colab": {
          "base_uri": "https://localhost:8080/",
          "height": 1000
        },
        "id": "8oPUk5VEG12u",
        "outputId": "d04863f2-3972-48be-8232-cb12813c3c2b"
      },
      "execution_count": null,
      "outputs": [
        {
          "output_type": "stream",
          "name": "stdout",
          "text": [
            "Epoch 1/30\n",
            "750/750 - 21s - loss: 0.6943 - acc: 0.7544 - val_loss: 0.4083 - val_acc: 0.8558 - 21s/epoch - 28ms/step\n",
            "Epoch 2/30\n",
            "750/750 - 20s - loss: 0.4800 - acc: 0.8314 - val_loss: 0.3441 - val_acc: 0.8752 - 20s/epoch - 26ms/step\n",
            "Epoch 3/30\n",
            "750/750 - 18s - loss: 0.4218 - acc: 0.8522 - val_loss: 0.3282 - val_acc: 0.8842 - 18s/epoch - 24ms/step\n",
            "Epoch 4/30\n",
            "750/750 - 19s - loss: 0.3883 - acc: 0.8642 - val_loss: 0.3135 - val_acc: 0.8859 - 19s/epoch - 26ms/step\n",
            "Epoch 5/30\n",
            "750/750 - 19s - loss: 0.3623 - acc: 0.8716 - val_loss: 0.2955 - val_acc: 0.8927 - 19s/epoch - 26ms/step\n",
            "Epoch 6/30\n",
            "750/750 - 19s - loss: 0.3442 - acc: 0.8759 - val_loss: 0.2910 - val_acc: 0.8944 - 19s/epoch - 26ms/step\n",
            "Epoch 7/30\n",
            "750/750 - 19s - loss: 0.3275 - acc: 0.8822 - val_loss: 0.2770 - val_acc: 0.8986 - 19s/epoch - 26ms/step\n",
            "Epoch 8/30\n",
            "750/750 - 20s - loss: 0.3171 - acc: 0.8862 - val_loss: 0.2748 - val_acc: 0.9007 - 20s/epoch - 27ms/step\n",
            "Epoch 9/30\n",
            "750/750 - 18s - loss: 0.3022 - acc: 0.8895 - val_loss: 0.2662 - val_acc: 0.9028 - 18s/epoch - 24ms/step\n",
            "Epoch 10/30\n",
            "750/750 - 22s - loss: 0.2923 - acc: 0.8933 - val_loss: 0.2670 - val_acc: 0.9023 - 22s/epoch - 29ms/step\n",
            "Epoch 11/30\n",
            "750/750 - 18s - loss: 0.2814 - acc: 0.8959 - val_loss: 0.2647 - val_acc: 0.9043 - 18s/epoch - 24ms/step\n",
            "Epoch 12/30\n",
            "750/750 - 18s - loss: 0.2737 - acc: 0.8996 - val_loss: 0.2621 - val_acc: 0.9053 - 18s/epoch - 24ms/step\n",
            "Epoch 13/30\n",
            "750/750 - 20s - loss: 0.2675 - acc: 0.9010 - val_loss: 0.2714 - val_acc: 0.9013 - 20s/epoch - 27ms/step\n",
            "Epoch 14/30\n",
            "750/750 - 18s - loss: 0.2569 - acc: 0.9037 - val_loss: 0.2640 - val_acc: 0.9055 - 18s/epoch - 24ms/step\n",
            "Epoch 15/30\n",
            "750/750 - 18s - loss: 0.2504 - acc: 0.9069 - val_loss: 0.2643 - val_acc: 0.9068 - 18s/epoch - 24ms/step\n",
            "Epoch 16/30\n",
            "750/750 - 22s - loss: 0.2456 - acc: 0.9093 - val_loss: 0.2593 - val_acc: 0.9078 - 22s/epoch - 30ms/step\n",
            "Epoch 17/30\n",
            "750/750 - 19s - loss: 0.2398 - acc: 0.9116 - val_loss: 0.2616 - val_acc: 0.9076 - 19s/epoch - 26ms/step\n",
            "Epoch 18/30\n",
            "750/750 - 19s - loss: 0.2348 - acc: 0.9118 - val_loss: 0.2664 - val_acc: 0.9052 - 19s/epoch - 26ms/step\n",
            "Epoch 19/30\n",
            "750/750 - 20s - loss: 0.2327 - acc: 0.9119 - val_loss: 0.2725 - val_acc: 0.9057 - 20s/epoch - 27ms/step\n",
            "Epoch 20/30\n",
            "750/750 - 19s - loss: 0.2263 - acc: 0.9143 - val_loss: 0.2678 - val_acc: 0.9089 - 19s/epoch - 26ms/step\n",
            "Epoch 21/30\n",
            "750/750 - 20s - loss: 0.2192 - acc: 0.9174 - val_loss: 0.2729 - val_acc: 0.9083 - 20s/epoch - 27ms/step\n",
            "Epoch 22/30\n",
            "750/750 - 19s - loss: 0.2178 - acc: 0.9183 - val_loss: 0.2649 - val_acc: 0.9091 - 19s/epoch - 26ms/step\n",
            "Epoch 23/30\n",
            "\n",
            "\n"
          ]
        },
        {
          "output_type": "error",
          "ename": "TypeError",
          "evalue": "ignored",
          "traceback": [
            "\u001b[0;31m---------------------------------------------------------------------------\u001b[0m",
            "\u001b[0;31mTypeError\u001b[0m                                 Traceback (most recent call last)",
            "\u001b[0;32m<ipython-input-51-e72d5801e7cb>\u001b[0m in \u001b[0;36m<module>\u001b[0;34m\u001b[0m\n\u001b[1;32m      1\u001b[0m \u001b[0;31m# CNN 모델 학습\u001b[0m\u001b[0;34m\u001b[0m\u001b[0;34m\u001b[0m\u001b[0;34m\u001b[0m\u001b[0m\n\u001b[1;32m      2\u001b[0m \u001b[0mcnn_model\u001b[0m \u001b[0;34m=\u001b[0m \u001b[0mbuild_cnn\u001b[0m\u001b[0;34m(\u001b[0m\u001b[0;34m)\u001b[0m\u001b[0;34m\u001b[0m\u001b[0;34m\u001b[0m\u001b[0m\n\u001b[0;32m----> 3\u001b[0;31m \u001b[0mcnn_history\u001b[0m \u001b[0;34m=\u001b[0m \u001b[0mcnn_model\u001b[0m\u001b[0;34m.\u001b[0m\u001b[0mfit\u001b[0m\u001b[0;34m(\u001b[0m\u001b[0mx_tr\u001b[0m\u001b[0;34m,\u001b[0m \u001b[0my_tr\u001b[0m\u001b[0;34m,\u001b[0m \u001b[0mbatch_size\u001b[0m \u001b[0;34m=\u001b[0m \u001b[0;36m64\u001b[0m\u001b[0;34m,\u001b[0m \u001b[0mepochs\u001b[0m \u001b[0;34m=\u001b[0m \u001b[0;36m30\u001b[0m\u001b[0;34m,\u001b[0m \u001b[0mvalidation_data\u001b[0m \u001b[0;34m=\u001b[0m \u001b[0;34m(\u001b[0m\u001b[0mx_val\u001b[0m\u001b[0;34m,\u001b[0m \u001b[0my_val\u001b[0m\u001b[0;34m)\u001b[0m\u001b[0;34m,\u001b[0m \u001b[0mcallbacks\u001b[0m\u001b[0;34m=\u001b[0m\u001b[0;34m[\u001b[0m\u001b[0mmy_callback\u001b[0m\u001b[0;34m,\u001b[0m \u001b[0msave_best_model\u001b[0m\u001b[0;34m]\u001b[0m\u001b[0;34m,\u001b[0m \u001b[0mverbose\u001b[0m \u001b[0;34m=\u001b[0m\u001b[0;36m2\u001b[0m\u001b[0;34m)\u001b[0m\u001b[0;34m\u001b[0m\u001b[0;34m\u001b[0m\u001b[0m\n\u001b[0m",
            "\u001b[0;32m/usr/local/lib/python3.8/dist-packages/keras/utils/traceback_utils.py\u001b[0m in \u001b[0;36merror_handler\u001b[0;34m(*args, **kwargs)\u001b[0m\n\u001b[1;32m     68\u001b[0m             \u001b[0;31m# To get the full stack trace, call:\u001b[0m\u001b[0;34m\u001b[0m\u001b[0;34m\u001b[0m\u001b[0;34m\u001b[0m\u001b[0m\n\u001b[1;32m     69\u001b[0m             \u001b[0;31m# `tf.debugging.disable_traceback_filtering()`\u001b[0m\u001b[0;34m\u001b[0m\u001b[0;34m\u001b[0m\u001b[0;34m\u001b[0m\u001b[0m\n\u001b[0;32m---> 70\u001b[0;31m             \u001b[0;32mraise\u001b[0m \u001b[0me\u001b[0m\u001b[0;34m.\u001b[0m\u001b[0mwith_traceback\u001b[0m\u001b[0;34m(\u001b[0m\u001b[0mfiltered_tb\u001b[0m\u001b[0;34m)\u001b[0m \u001b[0;32mfrom\u001b[0m \u001b[0;32mNone\u001b[0m\u001b[0;34m\u001b[0m\u001b[0;34m\u001b[0m\u001b[0m\n\u001b[0m\u001b[1;32m     71\u001b[0m         \u001b[0;32mfinally\u001b[0m\u001b[0;34m:\u001b[0m\u001b[0;34m\u001b[0m\u001b[0;34m\u001b[0m\u001b[0m\n\u001b[1;32m     72\u001b[0m             \u001b[0;32mdel\u001b[0m \u001b[0mfiltered_tb\u001b[0m\u001b[0;34m\u001b[0m\u001b[0;34m\u001b[0m\u001b[0m\n",
            "\u001b[0;32m<ipython-input-48-eb4407bba5e7>\u001b[0m in \u001b[0;36mon_epoch_end\u001b[0;34m(self, epoch, logs)\u001b[0m\n\u001b[1;32m      7\u001b[0m       \u001b[0mself\u001b[0m\u001b[0;34m.\u001b[0m\u001b[0mmodel\u001b[0m\u001b[0;34m.\u001b[0m\u001b[0mstop_training\u001b[0m \u001b[0;34m=\u001b[0m \u001b[0;32mTrue\u001b[0m\u001b[0;34m\u001b[0m\u001b[0;34m\u001b[0m\u001b[0m\n\u001b[1;32m      8\u001b[0m       \u001b[0mprint\u001b[0m\u001b[0;34m(\u001b[0m\u001b[0;34m\"\\n\"\u001b[0m\u001b[0;34m)\u001b[0m\u001b[0;34m\u001b[0m\u001b[0;34m\u001b[0m\u001b[0m\n\u001b[0;32m----> 9\u001b[0;31m       \u001b[0mprint\u001b[0m\u001b[0;34m(\u001b[0m\u001b[0;34m\"목표 정화도 달성: 검증 정확도 $.4f\"\u001b[0m \u001b[0;34m%\u001b[0m \u001b[0mlogs\u001b[0m\u001b[0;34m.\u001b[0m\u001b[0mget\u001b[0m\u001b[0;34m(\u001b[0m\u001b[0;34m'val_acc'\u001b[0m\u001b[0;34m)\u001b[0m\u001b[0;34m)\u001b[0m\u001b[0;34m\u001b[0m\u001b[0;34m\u001b[0m\u001b[0m\n\u001b[0m\u001b[1;32m     10\u001b[0m \u001b[0;34m\u001b[0m\u001b[0m\n\u001b[1;32m     11\u001b[0m \u001b[0mmy_callback\u001b[0m \u001b[0;34m=\u001b[0m \u001b[0mmy_callback\u001b[0m\u001b[0;34m(\u001b[0m\u001b[0;34m)\u001b[0m\u001b[0;34m\u001b[0m\u001b[0;34m\u001b[0m\u001b[0m\n",
            "\u001b[0;31mTypeError\u001b[0m: not all arguments converted during string formatting"
          ]
        }
      ]
    },
    {
      "cell_type": "code",
      "source": [
        "from tensorflow.keras.models import load_model\n",
        "\n",
        "# ModelCheckPoin에 저장해둔 모델 로딩\n",
        "best_model = load_model(drive_path + \"best_cnn_model.h5\")\n",
        "best_model.summary()"
      ],
      "metadata": {
        "colab": {
          "base_uri": "https://localhost:8080/"
        },
        "id": "59iTdK53HN7j",
        "outputId": "6e4170b8-b941-49e3-c7ad-ed8d4dce3c4c"
      },
      "execution_count": null,
      "outputs": [
        {
          "output_type": "stream",
          "name": "stdout",
          "text": [
            "Model: \"sequential_5\"\n",
            "_________________________________________________________________\n",
            " Layer (type)                Output Shape              Param #   \n",
            "=================================================================\n",
            " conv2d_3 (Conv2D)           (None, 26, 26, 16)        160       \n",
            "                                                                 \n",
            " max_pooling2d_3 (MaxPooling  (None, 13, 13, 16)       0         \n",
            " 2D)                                                             \n",
            "                                                                 \n",
            " flatten_4 (Flatten)         (None, 2704)              0         \n",
            "                                                                 \n",
            " dense_8 (Dense)             (None, 64)                173120    \n",
            "                                                                 \n",
            " dropout_1 (Dropout)         (None, 64)                0         \n",
            "                                                                 \n",
            " dense_9 (Dense)             (None, 10)                650       \n",
            "                                                                 \n",
            "=================================================================\n",
            "Total params: 173,930\n",
            "Trainable params: 173,930\n",
            "Non-trainable params: 0\n",
            "_________________________________________________________________\n"
          ]
        }
      ]
    },
    {
      "cell_type": "code",
      "source": [
        "y_pred_proba = best_model.predict(x_test)\n",
        "y_pred_classes = np.argmax(y_pred_proba, axis = 1)\n",
        "submission['label'] = y_pred_classes\n",
        "submission_filepath = drive_path + 'mnist_cnn_submission2.csv'\n",
        "submission.to_csv(submission_filepath, index = False)"
      ],
      "metadata": {
        "colab": {
          "base_uri": "https://localhost:8080/"
        },
        "id": "ueMVD_-5H_q4",
        "outputId": "c8c91999-9579-496b-b53a-4814fb530c18"
      },
      "execution_count": null,
      "outputs": [
        {
          "output_type": "stream",
          "name": "stdout",
          "text": [
            "313/313 [==============================] - 2s 6ms/step\n"
          ]
        }
      ]
    },
    {
      "cell_type": "code",
      "source": [
        "# 라이브러리 설정\n",
        "import pandas as pd\n",
        "import numpy as np\n",
        "import tensorflow as tf\n",
        "import matplotlib.pyplot as plt\n",
        "import random\n",
        "\n",
        "from tensorflow.keras.models import Sequential\n",
        "from tensorflow.keras.layers import Flatten, Dense, Dropout\n",
        "from tensorflow.keras.layers import Conv2D, MaxPooling2D, Reshape\n",
        "\n",
        "# 랜덤 시드 고정\n",
        "SEED = 12\n",
        "random.seed(SEED)\n",
        "np.random.seed(SEED)\n",
        "tf.random.set_seed(SEED)"
      ],
      "metadata": {
        "id": "JjpwidTmISr7"
      },
      "execution_count": null,
      "outputs": []
    },
    {
      "cell_type": "code",
      "source": [
        "# 케라스에서 불러오기\n",
        "from tensorflow.keras import datasets\n",
        "fashion_mnist = datasets.fashion_mnist\n",
        "(x_train, y_train), (x_test, y_test) = fashion_mnist.load_data()\n",
        "\n",
        "# 피처 스케일링\n",
        "x_train = x_train/255.\n",
        "x_test = x_test/255.\n",
        "\n",
        "# 차원 추가\n",
        "x_train = np.expand_dims(x_train, axis=-1)\n",
        "x_test = np.expand_dims(x_test, axis =-1)\n",
        "\n",
        "print(x_train.shape, y_train.shape, x_test.shape, y_test.shape)"
      ],
      "metadata": {
        "colab": {
          "base_uri": "https://localhost:8080/"
        },
        "id": "zQyjKphrgdvZ",
        "outputId": "4ff6868a-e662-4c4b-eb87-1330b4efe7bb"
      },
      "execution_count": null,
      "outputs": [
        {
          "output_type": "stream",
          "name": "stdout",
          "text": [
            "(60000, 28, 28, 1) (60000,) (10000, 28, 28, 1) (10000,)\n"
          ]
        }
      ]
    },
    {
      "cell_type": "code",
      "source": [
        "# 오토 인코더 모델 정의\n",
        "def Autoencoder():\n",
        "  model = Sequential()\n",
        "\n",
        "  # Encoder 부분\n",
        "  model.add(Conv2D(filters = 16, kernel_size = (3,3), activation = 'relu', input_shape = [28, 28, 1]))\n",
        "  model.add(MaxPooling2D(pool_size = (2,2)))\n",
        "  model.add(Flatten())\n",
        "  model.add(Dense(64,activation = 'relu'))\n",
        "\n",
        "  # Decoder 부분\n",
        "  model.add(Dense(units = 28*28, activation = 'sigmoid'))\n",
        "  model.add(Reshape((28,28)))\n",
        "\n",
        "  # Compile\n",
        "  model.compile(optimizer = 'adam', loss = 'mean_squared_error')\n",
        "\n",
        "  return model\n",
        "\n",
        "ae_model = Autoencoder()\n",
        "ae_model.summary()"
      ],
      "metadata": {
        "colab": {
          "base_uri": "https://localhost:8080/"
        },
        "id": "OYf-o3CQjoGY",
        "outputId": "c11298c5-937f-4b06-802f-8865276a362f"
      },
      "execution_count": null,
      "outputs": [
        {
          "output_type": "stream",
          "name": "stdout",
          "text": [
            "Model: \"sequential_10\"\n",
            "_________________________________________________________________\n",
            " Layer (type)                Output Shape              Param #   \n",
            "=================================================================\n",
            " conv2d_8 (Conv2D)           (None, 26, 26, 16)        160       \n",
            "                                                                 \n",
            " max_pooling2d_8 (MaxPooling  (None, 13, 13, 16)       0         \n",
            " 2D)                                                             \n",
            "                                                                 \n",
            " flatten_9 (Flatten)         (None, 2704)              0         \n",
            "                                                                 \n",
            " dense_18 (Dense)            (None, 64)                173120    \n",
            "                                                                 \n",
            " dense_19 (Dense)            (None, 784)               50960     \n",
            "                                                                 \n",
            " reshape (Reshape)           (None, 28, 28)            0         \n",
            "                                                                 \n",
            "=================================================================\n",
            "Total params: 224,240\n",
            "Trainable params: 224,240\n",
            "Non-trainable params: 0\n",
            "_________________________________________________________________\n"
          ]
        }
      ]
    },
    {
      "cell_type": "code",
      "source": [
        "history = ae_model.fit(x_train, x_train, batch_size = 64, epochs = 20, validation_data=(x_test, x_test), verbose=0)\n",
        "\n",
        "ae_images = ae_model.predict(x_test)\n",
        "ae_images.shape"
      ],
      "metadata": {
        "colab": {
          "base_uri": "https://localhost:8080/"
        },
        "id": "91FTxJk9l5xH",
        "outputId": "cac2bf67-37da-4603-b185-42a5d3de0b59"
      },
      "execution_count": null,
      "outputs": [
        {
          "output_type": "stream",
          "name": "stdout",
          "text": [
            "313/313 [==============================] - 53s 10ms/step\n"
          ]
        },
        {
          "output_type": "execute_result",
          "data": {
            "text/plain": [
              "(10000, 28, 28)"
            ]
          },
          "metadata": {},
          "execution_count": 66
        }
      ]
    },
    {
      "cell_type": "code",
      "source": [
        "num = 5\n",
        "plt.figure(figsize = (20,8))\n",
        "\n",
        "for i in range(num):\n",
        "\n",
        "  #원본이미지\n",
        "  ax = plt.subplot(2, num, i+1)\n",
        "  plt.imshow(x_test[i].reshape((28,28)), cmap = 'gray')\n",
        "  plt.title(\"Original %s\" % str(i))\n",
        "  plt.axis('off')\n",
        "\n",
        "  #복원이미지\n",
        "  ax = plt.subplot(2, num, i + num +1)\n",
        "  plt.imshow(ae_images[i], cmap = 'gray')\n",
        "  plt.title(\"Auto-encoded %s\" % str(i))\n",
        "  plt.axis('off')\n",
        "\n",
        "plt.show()"
      ],
      "metadata": {
        "colab": {
          "base_uri": "https://localhost:8080/",
          "height": 477
        },
        "id": "gVnVy7X9oaXT",
        "outputId": "2a78a798-7146-455c-dd0e-e05d3474adc8"
      },
      "execution_count": null,
      "outputs": [
        {
          "output_type": "display_data",
          "data": {
            "text/plain": [
              "<Figure size 1440x576 with 10 Axes>"
            ],
            "image/png": "[encoded data removed]"
          },
          "metadata": {
            "needs_background": "light"
          }
        }
      ]
    },
    {
      "cell_type": "code",
      "source": [],
      "metadata": {
        "id": "NEZ3vBIBsn0U"
      },
      "execution_count": null,
      "outputs": []
    }
  ]
}