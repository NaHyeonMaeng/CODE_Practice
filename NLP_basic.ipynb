{
  "nbformat": 4,
  "nbformat_minor": 0,
  "metadata": {
    "colab": {
      "provenance": [],
      "authorship_tag": "ABX9TyOE5D87qSzcxyoSxeKq2b8i",
      "include_colab_link": true
    },
    "kernelspec": {
      "name": "python3",
      "display_name": "Python 3"
    },
    "language_info": {
      "name": "python"
    }
  },
  "cells": [
    {
      "cell_type": "markdown",
      "metadata": {
        "id": "view-in-github",
        "colab_type": "text"
      },
      "source": [
        "<a href=\"https://colab.research.google.com/github/NaHyeonMaeng/CODE_Practice/blob/main/NLP_basic.ipynb\" target=\"_parent\"><img src=\"https://colab.research.google.com/assets/colab-badge.svg\" alt=\"Open In Colab\"/></a>"
      ]
    },
    {
      "cell_type": "code",
      "execution_count": 1,
      "metadata": {
        "id": "7kf55tr5lGwZ",
        "colab": {
          "base_uri": "https://localhost:8080/"
        },
        "outputId": "55101336-292f-4cce-b930-33cdca76d6f0"
      },
      "outputs": [
        {
          "output_type": "stream",
          "name": "stdout",
          "text": [
            "단어 인덱스: {'영실이는': 1, '정말': 2, '좋아해': 3, '나를': 4, '영화를': 5}\n"
          ]
        }
      ],
      "source": [
        "# 텐서플로 토크나이저\n",
        "from tensorflow.keras.preprocessing.text import Tokenizer\n",
        "sentences = [\n",
        "             '영실이는 나를 정말 정말 좋아해',\n",
        "             '영실이는 영화를 좋아해'\n",
        "]\n",
        "tokenizer = Tokenizer()\n",
        "tokenizer.fit_on_texts(sentences)  #인코딩할 문장 입력\n",
        "print(\"단어 인덱스:\",tokenizer.word_index)"
      ]
    },
    {
      "cell_type": "code",
      "source": [
        "# 인코딩된 결과\n",
        "word_encoding = tokenizer.texts_to_sequences(sentences)  #인코딩 진행\n",
        "word_encoding"
      ],
      "metadata": {
        "colab": {
          "base_uri": "https://localhost:8080/"
        },
        "id": "3Pt46LToClyI",
        "outputId": "7b12e570-b808-47f7-f208-ab171cde4aa6"
      },
      "execution_count": 6,
      "outputs": [
        {
          "output_type": "execute_result",
          "data": {
            "text/plain": [
              "[[2, 1, 1, 1, 1], [2, 1, 1]]"
            ]
          },
          "metadata": {},
          "execution_count": 6
        }
      ]
    },
    {
      "cell_type": "code",
      "source": [
        "# 사전에 없는 단어가 있을 때 인코딩 결과\n",
        "new_sentences = ['영실이는 경록이와 나를 좋아해']  #새로운 문장\n",
        "new_word_encoding = tokenizer.texts_to_sequences(new_sentences)\n",
        "new_word_encoding"
      ],
      "metadata": {
        "colab": {
          "base_uri": "https://localhost:8080/"
        },
        "id": "XGtSjee4CnzZ",
        "outputId": "23c9dd17-3a3f-4a9b-9342-ca5e5addacd3"
      },
      "execution_count": 3,
      "outputs": [
        {
          "output_type": "execute_result",
          "data": {
            "text/plain": [
              "[[1, 4, 3]]"
            ]
          },
          "metadata": {},
          "execution_count": 3
        }
      ]
    },
    {
      "cell_type": "code",
      "source": [
        "# 사전에 없는(Out Of Vocabulary) 단어 처리\n",
        "tokenizer = Tokenizer(oov_token=\"\")\n",
        "tokenizer.fit_on_texts(sentences)\n",
        "word_index = tokenizer.word_index\n",
        "\n",
        "new_word_encoding = tokenizer.texts_to_sequences(new_sentences)\n",
        "\n",
        "print(word_index)\n",
        "print(new_word_encoding)"
      ],
      "metadata": {
        "colab": {
          "base_uri": "https://localhost:8080/"
        },
        "id": "IuFJKImiCsnZ",
        "outputId": "3d53b764-6d8a-4678-8945-2da27133a433"
      },
      "execution_count": 4,
      "outputs": [
        {
          "output_type": "stream",
          "name": "stdout",
          "text": [
            "{'': 1, '영실이는': 2, '정말': 3, '좋아해': 4, '나를': 5, '영화를': 6}\n",
            "[[2, 1, 5, 4]]\n"
          ]
        }
      ]
    },
    {
      "cell_type": "code",
      "source": [
        "# 단어사전 개수 설정\n",
        "tokenizer = Tokenizer(num_words=3, oov_token=\"\")  #최대 사전 개수 = 3\n",
        "tokenizer.fit_on_texts(sentences)\n",
        "word_index = tokenizer.word_index\n",
        "\n",
        "new_word_encoding = tokenizer.texts_to_sequences(new_sentences)\n",
        "\n",
        "print(word_index)\n",
        "print(new_word_encoding)"
      ],
      "metadata": {
        "colab": {
          "base_uri": "https://localhost:8080/"
        },
        "id": "tUI8BHduCvoX",
        "outputId": "be4ae102-45e5-49eb-9b12-d7c0e3142de0"
      },
      "execution_count": 5,
      "outputs": [
        {
          "output_type": "stream",
          "name": "stdout",
          "text": [
            "{'': 1, '영실이는': 2, '정말': 3, '좋아해': 4, '나를': 5, '영화를': 6}\n",
            "[[2, 1, 1, 1]]\n"
          ]
        }
      ]
    },
    {
      "cell_type": "code",
      "source": [
        "# 문장의 길이 맞추기 (padding)\n",
        "from tensorflow.keras.preprocessing.sequence import pad_sequences\n",
        "padded = pad_sequences(word_encoding)  #인코딩한 결과를 패딩\n",
        "print(padded)"
      ],
      "metadata": {
        "colab": {
          "base_uri": "https://localhost:8080/"
        },
        "id": "w-O14i3xC0rn",
        "outputId": "69e91cda-b1ae-48ef-8ac2-7fe59ef730ad"
      },
      "execution_count": 7,
      "outputs": [
        {
          "output_type": "stream",
          "name": "stdout",
          "text": [
            "[[2 1 1 1 1]\n",
            " [0 0 2 1 1]]\n"
          ]
        }
      ]
    },
    {
      "cell_type": "code",
      "source": [
        "# 패딩(뒤에 0 붙이기)\n",
        "padded = pad_sequences(word_encoding, padding='post')  #파라미터 설정\n",
        "print(padded)"
      ],
      "metadata": {
        "colab": {
          "base_uri": "https://localhost:8080/"
        },
        "id": "Y81fgv8oDEeD",
        "outputId": "c0eea886-d097-4978-d029-cc8eb5918c33"
      },
      "execution_count": 8,
      "outputs": [
        {
          "output_type": "stream",
          "name": "stdout",
          "text": [
            "[[2 1 1 1 1]\n",
            " [2 1 1 0 0]]\n"
          ]
        }
      ]
    },
    {
      "cell_type": "code",
      "source": [
        "# 문장의 최대 길이 고정\n",
        "padded = pad_sequences(word_encoding, padding='post',maxlen=4)  #최대값을 4로 설정\n",
        "print(padded)"
      ],
      "metadata": {
        "colab": {
          "base_uri": "https://localhost:8080/"
        },
        "id": "Ja5gugBhDIWp",
        "outputId": "00fa6506-5335-4739-a42e-bedaef66847d"
      },
      "execution_count": 9,
      "outputs": [
        {
          "output_type": "stream",
          "name": "stdout",
          "text": [
            "[[1 1 1 1]\n",
            " [2 1 1 0]]\n"
          ]
        }
      ]
    },
    {
      "cell_type": "code",
      "source": [
        "# 최대 길이보다 문장이 길 때 뒷부분 자르기\n",
        "padded = pad_sequences(word_encoding, padding='post', truncating='post', maxlen=4)  #파라미터 설정\n",
        "print(padded)"
      ],
      "metadata": {
        "colab": {
          "base_uri": "https://localhost:8080/"
        },
        "id": "yRq1Ln-DDMAP",
        "outputId": "7e11d0b5-4346-4a39-c6b4-cc7bbd86b5cf"
      },
      "execution_count": 10,
      "outputs": [
        {
          "output_type": "stream",
          "name": "stdout",
          "text": [
            "[[2 1 1 1]\n",
            " [2 1 1 0]]\n"
          ]
        }
      ]
    }
  ]
}