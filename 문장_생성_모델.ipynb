{
  "nbformat": 4,
  "nbformat_minor": 0,
  "metadata": {
    "colab": {
      "provenance": [],
      "gpuType": "T4",
      "cell_execution_strategy": "setup",
      "authorship_tag": "ABX9TyMy0RFUJFwwj1UJ7OYv+S0k",
      "include_colab_link": true
    },
    "kernelspec": {
      "name": "python3",
      "display_name": "Python 3"
    },
    "language_info": {
      "name": "python"
    },
    "accelerator": "GPU"
  },
  "cells": [
    {
      "cell_type": "markdown",
      "metadata": {
        "id": "view-in-github",
        "colab_type": "text"
      },
      "source": [
        "<a href=\"https://colab.research.google.com/github/NaHyeonMaeng/CODE_Practice/blob/main/%EB%AC%B8%EC%9E%A5_%EC%83%9D%EC%84%B1_%EB%AA%A8%EB%8D%B8.ipynb\" target=\"_parent\"><img src=\"https://colab.research.google.com/assets/colab-badge.svg\" alt=\"Open In Colab\"/></a>"
      ]
    },
    {
      "cell_type": "code",
      "execution_count": 1,
      "metadata": {
        "id": "nRFjARVMYHUD"
      },
      "outputs": [],
      "source": [
        "# 기본 라이브러리\n",
        "import pandas as pd\n",
        "import numpy as np\n",
        "import tensorflow as tf\n",
        "import matplotlib.pyplot as plt"
      ]
    },
    {
      "cell_type": "code",
      "source": [
        "# 네이버 영화리뷰 데이터셋 불러오기\n",
        "file = tf.keras.utils.get_file(\n",
        "    'ratings_train.txt',\n",
        "    origin='https://raw.githubusercontent.com/e9t/nsmc/master/ratings_train.txt',\n",
        "    extract=True)\n",
        "\n",
        "df = pd.read_csv(file, sep='\\t')"
      ],
      "metadata": {
        "colab": {
          "base_uri": "https://localhost:8080/"
        },
        "id": "UrNWIq3hYP8U",
        "outputId": "504ca404-f6c5-417a-b8cc-0f5e3a91b2e9"
      },
      "execution_count": 2,
      "outputs": [
        {
          "output_type": "stream",
          "name": "stdout",
          "text": [
            "Downloading data from https://raw.githubusercontent.com/e9t/nsmc/master/ratings_train.txt\n",
            "14628807/14628807 [==============================] - 0s 0us/step\n"
          ]
        }
      ]
    },
    {
      "cell_type": "code",
      "source": [
        "# 데이터 임의샘플 확인\n",
        "df[1000:1007]"
      ],
      "metadata": {
        "colab": {
          "base_uri": "https://localhost:8080/",
          "height": 268
        },
        "id": "ZETRgg7IYSLd",
        "outputId": "f38d082a-137a-409c-e73f-d5ce4b7705a3"
      },
      "execution_count": 3,
      "outputs": [
        {
          "output_type": "execute_result",
          "data": {
            "text/plain": [
              "           id                                       document  label\n",
              "1000  9856453      정말 최고의 명작 성인이 되고 본 이집트의 왕자는 또 다른 감동 그자체네요      1\n",
              "1001  6961803           이영화만 성공 했어도 스퀘어가 에닉스랑 합병 할일은 없었을텐데..      0\n",
              "1002  8681713                                   울컥하는 사회현실 ㅠㅠ      1\n",
              "1003  5348290                          기대를하나도안하면 할일없을때보기좋은영화      0\n",
              "1004  9340549  소림사 관문 통과하기 진짜 어렵다는거 보여준 영화..극장에서 개봉하는거 반갑다..      1\n",
              "1005  7357684                               시리즈안나오나 ㅠㅠㅠㅠㅠㅠㅠㅠ      1\n",
              "1006  9303587               끝난다는 사실이 너무 슬퍼요. 가슴이 뻥 뚫려버린것같아..      1"
            ],
            "text/html": [
              "\n",
              "\n",
              "  <div id=\"df-49183712-de66-414d-bd16-fbb8be7fefa3\">\n",
              "    <div class=\"colab-df-container\">\n",
              "      <div>\n",
              "<style scoped>\n",
              "    .dataframe tbody tr th:only-of-type {\n",
              "        vertical-align: middle;\n",
              "    }\n",
              "\n",
              "    .dataframe tbody tr th {\n",
              "        vertical-align: top;\n",
              "    }\n",
              "\n",
              "    .dataframe thead th {\n",
              "        text-align: right;\n",
              "    }\n",
              "</style>\n",
              "<table border=\"1\" class=\"dataframe\">\n",
              "  <thead>\n",
              "    <tr style=\"text-align: right;\">\n",
              "      <th></th>\n",
              "      <th>id</th>\n",
              "      <th>document</th>\n",
              "      <th>label</th>\n",
              "    </tr>\n",
              "  </thead>\n",
              "  <tbody>\n",
              "    <tr>\n",
              "      <th>1000</th>\n",
              "      <td>9856453</td>\n",
              "      <td>정말 최고의 명작 성인이 되고 본 이집트의 왕자는 또 다른 감동 그자체네요</td>\n",
              "      <td>1</td>\n",
              "    </tr>\n",
              "    <tr>\n",
              "      <th>1001</th>\n",
              "      <td>6961803</td>\n",
              "      <td>이영화만 성공 했어도 스퀘어가 에닉스랑 합병 할일은 없었을텐데..</td>\n",
              "      <td>0</td>\n",
              "    </tr>\n",
              "    <tr>\n",
              "      <th>1002</th>\n",
              "      <td>8681713</td>\n",
              "      <td>울컥하는 사회현실 ㅠㅠ</td>\n",
              "      <td>1</td>\n",
              "    </tr>\n",
              "    <tr>\n",
              "      <th>1003</th>\n",
              "      <td>5348290</td>\n",
              "      <td>기대를하나도안하면 할일없을때보기좋은영화</td>\n",
              "      <td>0</td>\n",
              "    </tr>\n",
              "    <tr>\n",
              "      <th>1004</th>\n",
              "      <td>9340549</td>\n",
              "      <td>소림사 관문 통과하기 진짜 어렵다는거 보여준 영화..극장에서 개봉하는거 반갑다..</td>\n",
              "      <td>1</td>\n",
              "    </tr>\n",
              "    <tr>\n",
              "      <th>1005</th>\n",
              "      <td>7357684</td>\n",
              "      <td>시리즈안나오나 ㅠㅠㅠㅠㅠㅠㅠㅠ</td>\n",
              "      <td>1</td>\n",
              "    </tr>\n",
              "    <tr>\n",
              "      <th>1006</th>\n",
              "      <td>9303587</td>\n",
              "      <td>끝난다는 사실이 너무 슬퍼요. 가슴이 뻥 뚫려버린것같아..</td>\n",
              "      <td>1</td>\n",
              "    </tr>\n",
              "  </tbody>\n",
              "</table>\n",
              "</div>\n",
              "      <button class=\"colab-df-convert\" onclick=\"convertToInteractive('df-49183712-de66-414d-bd16-fbb8be7fefa3')\"\n",
              "              title=\"Convert this dataframe to an interactive table.\"\n",
              "              style=\"display:none;\">\n",
              "\n",
              "  <svg xmlns=\"http://www.w3.org/2000/svg\" height=\"24px\"viewBox=\"0 0 24 24\"\n",
              "       width=\"24px\">\n",
              "    <path d=\"M0 0h24v24H0V0z\" fill=\"none\"/>\n",
              "    <path d=\"M18.56 5.44l.94 2.06.94-2.06 2.06-.94-2.06-.94-.94-2.06-.94 2.06-2.06.94zm-11 1L8.5 8.5l.94-2.06 2.06-.94-2.06-.94L8.5 2.5l-.94 2.06-2.06.94zm10 10l.94 2.06.94-2.06 2.06-.94-2.06-.94-.94-2.06-.94 2.06-2.06.94z\"/><path d=\"M17.41 7.96l-1.37-1.37c-.4-.4-.92-.59-1.43-.59-.52 0-1.04.2-1.43.59L10.3 9.45l-7.72 7.72c-.78.78-.78 2.05 0 2.83L4 21.41c.39.39.9.59 1.41.59.51 0 1.02-.2 1.41-.59l7.78-7.78 2.81-2.81c.8-.78.8-2.07 0-2.86zM5.41 20L4 18.59l7.72-7.72 1.47 1.35L5.41 20z\"/>\n",
              "  </svg>\n",
              "      </button>\n",
              "\n",
              "\n",
              "\n",
              "    <div id=\"df-88a1518f-c76a-4975-90db-9b68575fb6f2\">\n",
              "      <button class=\"colab-df-quickchart\" onclick=\"quickchart('df-88a1518f-c76a-4975-90db-9b68575fb6f2')\"\n",
              "              title=\"Suggest charts.\"\n",
              "              style=\"display:none;\">\n",
              "\n",
              "<svg xmlns=\"http://www.w3.org/2000/svg\" height=\"24px\"viewBox=\"0 0 24 24\"\n",
              "     width=\"24px\">\n",
              "    <g>\n",
              "        <path d=\"M19 3H5c-1.1 0-2 .9-2 2v14c0 1.1.9 2 2 2h14c1.1 0 2-.9 2-2V5c0-1.1-.9-2-2-2zM9 17H7v-7h2v7zm4 0h-2V7h2v10zm4 0h-2v-4h2v4z\"/>\n",
              "    </g>\n",
              "</svg>\n",
              "      </button>\n",
              "    </div>\n",
              "\n",
              "<style>\n",
              "  .colab-df-quickchart {\n",
              "    background-color: #E8F0FE;\n",
              "    border: none;\n",
              "    border-radius: 50%;\n",
              "    cursor: pointer;\n",
              "    display: none;\n",
              "    fill: #1967D2;\n",
              "    height: 32px;\n",
              "    padding: 0 0 0 0;\n",
              "    width: 32px;\n",
              "  }\n",
              "\n",
              "  .colab-df-quickchart:hover {\n",
              "    background-color: #E2EBFA;\n",
              "    box-shadow: 0px 1px 2px rgba(60, 64, 67, 0.3), 0px 1px 3px 1px rgba(60, 64, 67, 0.15);\n",
              "    fill: #174EA6;\n",
              "  }\n",
              "\n",
              "  [theme=dark] .colab-df-quickchart {\n",
              "    background-color: #3B4455;\n",
              "    fill: #D2E3FC;\n",
              "  }\n",
              "\n",
              "  [theme=dark] .colab-df-quickchart:hover {\n",
              "    background-color: #434B5C;\n",
              "    box-shadow: 0px 1px 3px 1px rgba(0, 0, 0, 0.15);\n",
              "    filter: drop-shadow(0px 1px 2px rgba(0, 0, 0, 0.3));\n",
              "    fill: #FFFFFF;\n",
              "  }\n",
              "</style>\n",
              "\n",
              "    <script>\n",
              "      async function quickchart(key) {\n",
              "        const containerElement = document.querySelector('#' + key);\n",
              "        const charts = await google.colab.kernel.invokeFunction(\n",
              "            'suggestCharts', [key], {});\n",
              "      }\n",
              "    </script>\n",
              "\n",
              "      <script>\n",
              "\n",
              "function displayQuickchartButton(domScope) {\n",
              "  let quickchartButtonEl =\n",
              "    domScope.querySelector('#df-88a1518f-c76a-4975-90db-9b68575fb6f2 button.colab-df-quickchart');\n",
              "  quickchartButtonEl.style.display =\n",
              "    google.colab.kernel.accessAllowed ? 'block' : 'none';\n",
              "}\n",
              "\n",
              "        displayQuickchartButton(document);\n",
              "      </script>\n",
              "      <style>\n",
              "    .colab-df-container {\n",
              "      display:flex;\n",
              "      flex-wrap:wrap;\n",
              "      gap: 12px;\n",
              "    }\n",
              "\n",
              "    .colab-df-convert {\n",
              "      background-color: #E8F0FE;\n",
              "      border: none;\n",
              "      border-radius: 50%;\n",
              "      cursor: pointer;\n",
              "      display: none;\n",
              "      fill: #1967D2;\n",
              "      height: 32px;\n",
              "      padding: 0 0 0 0;\n",
              "      width: 32px;\n",
              "    }\n",
              "\n",
              "    .colab-df-convert:hover {\n",
              "      background-color: #E2EBFA;\n",
              "      box-shadow: 0px 1px 2px rgba(60, 64, 67, 0.3), 0px 1px 3px 1px rgba(60, 64, 67, 0.15);\n",
              "      fill: #174EA6;\n",
              "    }\n",
              "\n",
              "    [theme=dark] .colab-df-convert {\n",
              "      background-color: #3B4455;\n",
              "      fill: #D2E3FC;\n",
              "    }\n",
              "\n",
              "    [theme=dark] .colab-df-convert:hover {\n",
              "      background-color: #434B5C;\n",
              "      box-shadow: 0px 1px 3px 1px rgba(0, 0, 0, 0.15);\n",
              "      filter: drop-shadow(0px 1px 2px rgba(0, 0, 0, 0.3));\n",
              "      fill: #FFFFFF;\n",
              "    }\n",
              "  </style>\n",
              "\n",
              "      <script>\n",
              "        const buttonEl =\n",
              "          document.querySelector('#df-49183712-de66-414d-bd16-fbb8be7fefa3 button.colab-df-convert');\n",
              "        buttonEl.style.display =\n",
              "          google.colab.kernel.accessAllowed ? 'block' : 'none';\n",
              "\n",
              "        async function convertToInteractive(key) {\n",
              "          const element = document.querySelector('#df-49183712-de66-414d-bd16-fbb8be7fefa3');\n",
              "          const dataTable =\n",
              "            await google.colab.kernel.invokeFunction('convertToInteractive',\n",
              "                                                     [key], {});\n",
              "          if (!dataTable) return;\n",
              "\n",
              "          const docLinkHtml = 'Like what you see? Visit the ' +\n",
              "            '<a target=\"_blank\" href=https://colab.research.google.com/notebooks/data_table.ipynb>data table notebook</a>'\n",
              "            + ' to learn more about interactive tables.';\n",
              "          element.innerHTML = '';\n",
              "          dataTable['output_type'] = 'display_data';\n",
              "          await google.colab.output.renderOutput(dataTable, element);\n",
              "          const docLink = document.createElement('div');\n",
              "          docLink.innerHTML = docLinkHtml;\n",
              "          element.appendChild(docLink);\n",
              "        }\n",
              "      </script>\n",
              "    </div>\n",
              "  </div>\n"
            ]
          },
          "metadata": {},
          "execution_count": 3
        }
      ]
    },
    {
      "cell_type": "markdown",
      "source": [
        "데이터 전처리"
      ],
      "metadata": {
        "id": "uJCaf4VCYVSE"
      }
    },
    {
      "cell_type": "code",
      "source": [
        "# 형태소 분석기\n",
        "!pip install konlpy\n",
        "from konlpy.tag import Okt\n",
        "okt = Okt()"
      ],
      "metadata": {
        "colab": {
          "base_uri": "https://localhost:8080/"
        },
        "id": "PidErCFtYT0k",
        "outputId": "fb1cd2a9-fc70-4054-ea9b-f1e14e8b6dea"
      },
      "execution_count": 4,
      "outputs": [
        {
          "output_type": "stream",
          "name": "stdout",
          "text": [
            "Collecting konlpy\n",
            "  Downloading konlpy-0.6.0-py2.py3-none-any.whl (19.4 MB)\n",
            "\u001b[2K     \u001b[90m━━━━━━━━━━━━━━━━━━━━━━━━━━━━━━━━━━━━━━━━\u001b[0m \u001b[32m19.4/19.4 MB\u001b[0m \u001b[31m74.7 MB/s\u001b[0m eta \u001b[36m0:00:00\u001b[0m\n",
            "\u001b[?25hCollecting JPype1>=0.7.0 (from konlpy)\n",
            "  Downloading JPype1-1.4.1-cp310-cp310-manylinux_2_12_x86_64.manylinux2010_x86_64.whl (465 kB)\n",
            "\u001b[2K     \u001b[90m━━━━━━━━━━━━━━━━━━━━━━━━━━━━━━━━━━━━━━\u001b[0m \u001b[32m465.3/465.3 kB\u001b[0m \u001b[31m46.9 MB/s\u001b[0m eta \u001b[36m0:00:00\u001b[0m\n",
            "\u001b[?25hRequirement already satisfied: lxml>=4.1.0 in /usr/local/lib/python3.10/dist-packages (from konlpy) (4.9.3)\n",
            "Requirement already satisfied: numpy>=1.6 in /usr/local/lib/python3.10/dist-packages (from konlpy) (1.22.4)\n",
            "Requirement already satisfied: packaging in /usr/local/lib/python3.10/dist-packages (from JPype1>=0.7.0->konlpy) (23.1)\n",
            "Installing collected packages: JPype1, konlpy\n",
            "Successfully installed JPype1-1.4.1 konlpy-0.6.0\n"
          ]
        }
      ]
    },
    {
      "cell_type": "code",
      "source": [
        "# 데이터 전처리\n",
        "def word_tokenization(text):\n",
        "  return [word for word in okt.morphs(text)]\n",
        "\n",
        "def preprocessing(df):\n",
        "  df = df.dropna()\n",
        "  df = df[1000:2000]  # 샘플 데이터 1000개, 학습시간을 줄이고자 함\n",
        "  df['document'] = df['document'].str.replace(\"[^A-Za-z0-9가-힣ㄱ-ㅎㅏ-ㅣ ]\",\"\")  #영어, 한글, 띄어쓰기만 남김\n",
        "  data =  df['document'].apply((lambda x: word_tokenization(x)))  #형태소 단위로 분리\n",
        "  return data"
      ],
      "metadata": {
        "id": "prx3zz3YYYXY"
      },
      "execution_count": 5,
      "outputs": []
    },
    {
      "cell_type": "code",
      "source": [
        "# 텍스트 데이터 1000개 전처리 후 불러오기\n",
        "review = preprocessing(df)\n",
        "len(review)  #길이 확인"
      ],
      "metadata": {
        "colab": {
          "base_uri": "https://localhost:8080/"
        },
        "id": "0eUFFOajYd_x",
        "outputId": "d89d6699-f986-4d68-cba3-94047d5ca934"
      },
      "execution_count": 6,
      "outputs": [
        {
          "output_type": "stream",
          "name": "stderr",
          "text": [
            "<ipython-input-5-65b8a2bef762>:8: FutureWarning: The default value of regex will change from True to False in a future version.\n",
            "  df['document'] = df['document'].str.replace(\"[^A-Za-z0-9가-힣ㄱ-ㅎㅏ-ㅣ ]\",\"\")  #영어, 한글, 띄어쓰기만 남김\n"
          ]
        },
        {
          "output_type": "execute_result",
          "data": {
            "text/plain": [
              "1000"
            ]
          },
          "metadata": {},
          "execution_count": 6
        }
      ]
    },
    {
      "cell_type": "code",
      "source": [
        "# 형태소 분리된 데이터 확인\n",
        "print(review[:10])"
      ],
      "metadata": {
        "colab": {
          "base_uri": "https://localhost:8080/"
        },
        "id": "2PZkBdcjYgId",
        "outputId": "fe83fc75-9f6b-43b4-8191-9ccb000b7b4e"
      },
      "execution_count": 7,
      "outputs": [
        {
          "output_type": "stream",
          "name": "stdout",
          "text": [
            "1000    [정말, 최고, 의, 명작, 성인, 이, 되고, 본, 이집트, 의, 왕자, 는, 또...\n",
            "1001    [이영화, 만, 성공, 했어도, 스퀘어, 가, 에, 닉스, 랑, 합병, 할, 일, ...\n",
            "1002                                 [울컥, 하는, 사회, 현실, ㅠㅠ]\n",
            "1003       [기대, 를, 하나, 도안, 하, 면, 할, 일, 없을, 때, 보기, 좋은, 영화]\n",
            "1004    [소림사, 관문, 통과, 하기, 진짜, 어렵다는거, 보여준, 영화, 극장, 에서, ...\n",
            "1005                              [시리즈, 안, 나오나, ㅠㅠㅠㅠㅠㅠㅠㅠ]\n",
            "1006        [끝난다는, 사실, 이, 너무, 슬퍼요, 가슴, 이, 뻥, 뚫려, 버린것, 같아]\n",
            "1007                                             [펑점, 조절]\n",
            "1008                            [와이, 건, 진짜, 으리, 으리, 한, 데]\n",
            "1009                                [손발, 이, 오, 그라드, 네, 요]\n",
            "Name: document, dtype: object\n"
          ]
        }
      ]
    },
    {
      "cell_type": "code",
      "source": [
        "# 토큰화 및 패딩 -> 단어사전 만들기\n",
        "from tensorflow.keras.preprocessing.text import Tokenizer\n",
        "from tensorflow.keras.preprocessing.sequence import pad_sequences\n",
        "tokenizer = Tokenizer()\n",
        "\n",
        "def get_tokens(review):\n",
        "  tokenizer.fit_on_texts(review)\n",
        "  total_words = len(tokenizer.word_index)+1\n",
        "  tokenized_sentences = tokenizer.texts_to_sequences(review)\n",
        "\n",
        "  input_sequences = []\n",
        "  for token in tokenized_sentences:\n",
        "    for t in range(1, len(token)):\n",
        "        n_gram_sequence = token[:t+1]\n",
        "        input_sequences.append(n_gram_sequence)\n",
        "\n",
        "  return input_sequences, total_words\n",
        "\n",
        "input_sequences, total_words = get_tokens(review)\n",
        "input_sequences[31:40] # n_gram으로 리스트된 데이터샘플 확인"
      ],
      "metadata": {
        "colab": {
          "base_uri": "https://localhost:8080/"
        },
        "id": "xbImL_DhYh3-",
        "outputId": "8cf27f72-5c4b-40f6-ad5d-43d8e11b93a7"
      },
      "execution_count": 8,
      "outputs": [
        {
          "output_type": "execute_result",
          "data": {
            "text/plain": [
              "[[792, 25],\n",
              " [792, 25, 539],\n",
              " [792, 25, 539, 140],\n",
              " [792, 25, 539, 140, 109],\n",
              " [338, 9],\n",
              " [338, 9, 110],\n",
              " [338, 9, 110, 540],\n",
              " [338, 9, 110, 540, 90],\n",
              " [338, 9, 110, 540, 90, 148]]"
            ]
          },
          "metadata": {},
          "execution_count": 8
        }
      ]
    },
    {
      "cell_type": "code",
      "source": [
        "# 단어 사전에 키워드 넣기\n",
        "print(\"감동 ==>> \",tokenizer.word_index['감동'])\n",
        "print(\"영화 ==>> \",tokenizer.word_index['영화'])\n",
        "print(\"코믹 ==>> \",tokenizer.word_index['코믹'])"
      ],
      "metadata": {
        "colab": {
          "base_uri": "https://localhost:8080/"
        },
        "id": "SjnmyMuKYm3i",
        "outputId": "a1e2f686-292b-47a8-b025-d838d57e33db"
      },
      "execution_count": 10,
      "outputs": [
        {
          "output_type": "stream",
          "name": "stdout",
          "text": [
            "감동 ==>>  46\n",
            "영화 ==>>  2\n",
            "코믹 ==>>  415\n"
          ]
        }
      ]
    },
    {
      "cell_type": "code",
      "source": [
        "# 문장의 길이 동일하게 맞추기\n",
        "max_len = max([len(word) for word in input_sequences])\n",
        "print(\"max_len:\", max_len)\n",
        "input_sequences = np.array(pad_sequences(input_sequences,\n",
        "                                         maxlen=max_len,\n",
        "                                         padding='pre'))  #앞에 0을 채움"
      ],
      "metadata": {
        "colab": {
          "base_uri": "https://localhost:8080/"
        },
        "id": "VnEnF3vUYolq",
        "outputId": "e6784ee6-b423-4f0b-ff94-7f7a9cf846e4"
      },
      "execution_count": 11,
      "outputs": [
        {
          "output_type": "stream",
          "name": "stdout",
          "text": [
            "max_len: 59\n"
          ]
        }
      ]
    },
    {
      "cell_type": "code",
      "source": [
        "# 입력텍스트와 타겟\n",
        "from tensorflow.keras.utils import to_categorical\n",
        "X = input_sequences[:,:-1]  # 마지막 값은 제외함\n",
        "y = to_categorical(input_sequences[:,-1],\n",
        "                   num_classes=total_words) # 마지막 값만 이진 클래스 벡터로 변환"
      ],
      "metadata": {
        "id": "Y0siqf1nYuDH"
      },
      "execution_count": 12,
      "outputs": []
    },
    {
      "cell_type": "code",
      "source": [
        "# y를 설명하기 위한 예시\n",
        "a = to_categorical([0, 1, 2, 3], num_classes=4)\n",
        "a"
      ],
      "metadata": {
        "colab": {
          "base_uri": "https://localhost:8080/"
        },
        "id": "QYvYR2JlYw-m",
        "outputId": "99854275-5e23-4649-9245-36bf44fb38dc"
      },
      "execution_count": 13,
      "outputs": [
        {
          "output_type": "execute_result",
          "data": {
            "text/plain": [
              "array([[1., 0., 0., 0.],\n",
              "       [0., 1., 0., 0.],\n",
              "       [0., 0., 1., 0.],\n",
              "       [0., 0., 0., 1.]], dtype=float32)"
            ]
          },
          "metadata": {},
          "execution_count": 13
        }
      ]
    },
    {
      "cell_type": "markdown",
      "source": [
        "문장 생성 모델"
      ],
      "metadata": {
        "id": "hjl2zXPVY0t6"
      }
    },
    {
      "cell_type": "code",
      "source": [
        "from tensorflow.keras.models import Sequential\n",
        "from tensorflow.keras.layers import Embedding, LSTM, Dense, Bidirectional, Dropout\n",
        "\n",
        "embedding_dim = 256\n",
        "\n",
        "model = Sequential([\n",
        "    Embedding(input_dim=total_words,\n",
        "              output_dim=embedding_dim,\n",
        "              input_length=max_len-1),  #레이블 시퀀스로 한 단어를 빼서 입력 시퀀스 길이가 줄어들기 때문\n",
        "    Bidirectional(LSTM(units=256)),\n",
        "    Dense(units=total_words, activation='softmax'),\n",
        "])\n",
        "model.compile(loss='categorical_crossentropy',\n",
        "              optimizer='adam',\n",
        "              metrics=['accuracy'])\n",
        "history = model.fit(X, y, epochs=20, verbose=1)"
      ],
      "metadata": {
        "colab": {
          "base_uri": "https://localhost:8080/"
        },
        "id": "W-BGmiHTYyQ0",
        "outputId": "1f1d52f7-a304-4495-baed-82addaea6e7f"
      },
      "execution_count": 14,
      "outputs": [
        {
          "output_type": "stream",
          "name": "stdout",
          "text": [
            "Epoch 1/20\n",
            "375/375 [==============================] - 57s 118ms/step - loss: 7.7532 - accuracy: 0.0262\n",
            "Epoch 2/20\n",
            "375/375 [==============================] - 15s 41ms/step - loss: 7.1476 - accuracy: 0.0342\n",
            "Epoch 3/20\n",
            "375/375 [==============================] - 11s 28ms/step - loss: 6.7238 - accuracy: 0.0466\n",
            "Epoch 4/20\n",
            "375/375 [==============================] - 7s 20ms/step - loss: 6.0541 - accuracy: 0.0685\n",
            "Epoch 5/20\n",
            "375/375 [==============================] - 5s 13ms/step - loss: 5.1421 - accuracy: 0.1117\n",
            "Epoch 6/20\n",
            "375/375 [==============================] - 5s 14ms/step - loss: 4.1517 - accuracy: 0.2101\n",
            "Epoch 7/20\n",
            "375/375 [==============================] - 5s 13ms/step - loss: 3.2111 - accuracy: 0.3743\n",
            "Epoch 8/20\n",
            "375/375 [==============================] - 6s 16ms/step - loss: 2.3974 - accuracy: 0.5401\n",
            "Epoch 9/20\n",
            "375/375 [==============================] - 5s 13ms/step - loss: 1.7656 - accuracy: 0.6809\n",
            "Epoch 10/20\n",
            "375/375 [==============================] - 5s 12ms/step - loss: 1.2924 - accuracy: 0.7780\n",
            "Epoch 11/20\n",
            "375/375 [==============================] - 6s 16ms/step - loss: 0.9448 - accuracy: 0.8487\n",
            "Epoch 12/20\n",
            "375/375 [==============================] - 6s 15ms/step - loss: 0.6843 - accuracy: 0.9010\n",
            "Epoch 13/20\n",
            "375/375 [==============================] - 6s 17ms/step - loss: 0.5071 - accuracy: 0.9268\n",
            "Epoch 14/20\n",
            "375/375 [==============================] - 5s 13ms/step - loss: 0.3823 - accuracy: 0.9426\n",
            "Epoch 15/20\n",
            "375/375 [==============================] - 6s 17ms/step - loss: 0.3046 - accuracy: 0.9509\n",
            "Epoch 16/20\n",
            "375/375 [==============================] - 5s 12ms/step - loss: 0.2480 - accuracy: 0.9544\n",
            "Epoch 17/20\n",
            "375/375 [==============================] - 4s 12ms/step - loss: 0.2158 - accuracy: 0.9570\n",
            "Epoch 18/20\n",
            "375/375 [==============================] - 6s 15ms/step - loss: 0.1924 - accuracy: 0.9572\n",
            "Epoch 19/20\n",
            "375/375 [==============================] - 6s 15ms/step - loss: 0.1766 - accuracy: 0.9582\n",
            "Epoch 20/20\n",
            "375/375 [==============================] - 6s 16ms/step - loss: 0.1657 - accuracy: 0.9583\n"
          ]
        }
      ]
    },
    {
      "cell_type": "markdown",
      "source": [
        "문장 생성 (추론)"
      ],
      "metadata": {
        "id": "hl6FAa-DY-Lg"
      }
    },
    {
      "cell_type": "code",
      "source": [
        "# 문장생성함수 (시작 텍스트, 생성 단어 개수)\n",
        "def text_generation(sos, count):\n",
        "    for _ in range(1, count):\n",
        "        token_list = tokenizer.texts_to_sequences([sos])[0]\n",
        "        token_list = pad_sequences([token_list],\n",
        "                                   maxlen=max_len-1,\n",
        "                                   padding='pre')\n",
        "        predicted = np.argmax(model.predict(token_list), axis=1) # 최대 확률값 인덱스 반환\n",
        "\n",
        "        for word, idx in tokenizer.word_index.items():\n",
        "            if idx == predicted:\n",
        "                output = word\n",
        "                break\n",
        "        sos += \" \" + output\n",
        "    return sos"
      ],
      "metadata": {
        "id": "Pq-fybPYY7ki"
      },
      "execution_count": 15,
      "outputs": []
    },
    {
      "cell_type": "code",
      "source": [
        "# argmax 설명: 최대값의 인덱스 반환\n",
        "data = [[0.1, 0.2, 0.7], [0.3, 0.5, 0.2], [0.4, 0.3, 0.3]]\n",
        "np.argmax([data], axis=-1)"
      ],
      "metadata": {
        "colab": {
          "base_uri": "https://localhost:8080/"
        },
        "id": "sShzMcGMZFae",
        "outputId": "6612e33d-dead-4a1f-94fa-44cd54e4c1ff"
      },
      "execution_count": 16,
      "outputs": [
        {
          "output_type": "execute_result",
          "data": {
            "text/plain": [
              "array([[2, 1, 0]])"
            ]
          },
          "metadata": {},
          "execution_count": 16
        }
      ]
    },
    {
      "cell_type": "code",
      "source": [
        "text_generation(\"연애 하면서\", 12)"
      ],
      "metadata": {
        "colab": {
          "base_uri": "https://localhost:8080/",
          "height": 232
        },
        "id": "NEQfynmGZGmn",
        "outputId": "d0ca7148-fdc6-4211-8c6c-909f4781a35a"
      },
      "execution_count": 17,
      "outputs": [
        {
          "output_type": "stream",
          "name": "stdout",
          "text": [
            "1/1 [==============================] - 1s 787ms/step\n",
            "1/1 [==============================] - 0s 31ms/step\n",
            "1/1 [==============================] - 0s 38ms/step\n",
            "1/1 [==============================] - 0s 31ms/step\n",
            "1/1 [==============================] - 0s 34ms/step\n",
            "1/1 [==============================] - 0s 31ms/step\n",
            "1/1 [==============================] - 0s 29ms/step\n",
            "1/1 [==============================] - 0s 30ms/step\n",
            "1/1 [==============================] - 0s 30ms/step\n",
            "1/1 [==============================] - 0s 32ms/step\n",
            "1/1 [==============================] - 0s 29ms/step\n"
          ]
        },
        {
          "output_type": "execute_result",
          "data": {
            "text/plain": [
              "'연애 하면서 또 봐도 재밌고 신선한 드라마 수능 끝나면다시 봐야지 봐야지 ㅋㅋㅋ 않은데'"
            ],
            "application/vnd.google.colaboratory.intrinsic+json": {
              "type": "string"
            }
          },
          "metadata": {},
          "execution_count": 17
        }
      ]
    },
    {
      "cell_type": "code",
      "source": [
        "text_generation(\"꿀잼\", 12)"
      ],
      "metadata": {
        "colab": {
          "base_uri": "https://localhost:8080/",
          "height": 232
        },
        "id": "7_T6NX0XZJz3",
        "outputId": "30a7d0eb-ac59-4c2c-a050-3fb647e568e9"
      },
      "execution_count": 18,
      "outputs": [
        {
          "output_type": "stream",
          "name": "stdout",
          "text": [
            "1/1 [==============================] - 0s 35ms/step\n",
            "1/1 [==============================] - 0s 30ms/step\n",
            "1/1 [==============================] - 0s 31ms/step\n",
            "1/1 [==============================] - 0s 30ms/step\n",
            "1/1 [==============================] - 0s 32ms/step\n",
            "1/1 [==============================] - 0s 33ms/step\n",
            "1/1 [==============================] - 0s 32ms/step\n",
            "1/1 [==============================] - 0s 31ms/step\n",
            "1/1 [==============================] - 0s 29ms/step\n",
            "1/1 [==============================] - 0s 31ms/step\n",
            "1/1 [==============================] - 0s 35ms/step\n"
          ]
        },
        {
          "output_type": "execute_result",
          "data": {
            "text/plain": [
              "'꿀잼 근데 아나킨 은 언제 지 재미 는 동시 이번 이 피'"
            ],
            "application/vnd.google.colaboratory.intrinsic+json": {
              "type": "string"
            }
          },
          "metadata": {},
          "execution_count": 18
        }
      ]
    },
    {
      "cell_type": "code",
      "source": [
        "text_generation(\"최고의 영화\", 12)"
      ],
      "metadata": {
        "colab": {
          "base_uri": "https://localhost:8080/",
          "height": 232
        },
        "id": "sfUFijl_ZLGu",
        "outputId": "e3104c31-6e08-4336-813b-ebc2efacc763"
      },
      "execution_count": 19,
      "outputs": [
        {
          "output_type": "stream",
          "name": "stdout",
          "text": [
            "1/1 [==============================] - 0s 24ms/step\n",
            "1/1 [==============================] - 0s 22ms/step\n",
            "1/1 [==============================] - 0s 26ms/step\n",
            "1/1 [==============================] - 0s 20ms/step\n",
            "1/1 [==============================] - 0s 24ms/step\n",
            "1/1 [==============================] - 0s 22ms/step\n",
            "1/1 [==============================] - 0s 23ms/step\n",
            "1/1 [==============================] - 0s 22ms/step\n",
            "1/1 [==============================] - 0s 22ms/step\n",
            "1/1 [==============================] - 0s 22ms/step\n",
            "1/1 [==============================] - 0s 22ms/step\n"
          ]
        },
        {
          "output_type": "execute_result",
          "data": {
            "text/plain": [
              "'최고의 영화 정말 잘 만들었습니다 이런 영화 자주 나왔으면 좋겠습니다 좋겠습니다 도 나오고'"
            ],
            "application/vnd.google.colaboratory.intrinsic+json": {
              "type": "string"
            }
          },
          "metadata": {},
          "execution_count": 19
        }
      ]
    },
    {
      "cell_type": "code",
      "source": [
        "text_generation(\"손발 이\", 12)"
      ],
      "metadata": {
        "colab": {
          "base_uri": "https://localhost:8080/",
          "height": 232
        },
        "id": "Zu2lBAUeZMD1",
        "outputId": "34625231-7c70-447e-c2c2-4ea2cc88a7b7"
      },
      "execution_count": 20,
      "outputs": [
        {
          "output_type": "stream",
          "name": "stdout",
          "text": [
            "1/1 [==============================] - 0s 23ms/step\n",
            "1/1 [==============================] - 0s 27ms/step\n",
            "1/1 [==============================] - 0s 20ms/step\n",
            "1/1 [==============================] - 0s 22ms/step\n",
            "1/1 [==============================] - 0s 21ms/step\n",
            "1/1 [==============================] - 0s 20ms/step\n",
            "1/1 [==============================] - 0s 20ms/step\n",
            "1/1 [==============================] - 0s 21ms/step\n",
            "1/1 [==============================] - 0s 20ms/step\n",
            "1/1 [==============================] - 0s 22ms/step\n",
            "1/1 [==============================] - 0s 22ms/step\n"
          ]
        },
        {
          "output_type": "execute_result",
          "data": {
            "text/plain": [
              "'손발 이 오 그라드 네 요 요 도 봤는데 도 없고 드라마 도'"
            ],
            "application/vnd.google.colaboratory.intrinsic+json": {
              "type": "string"
            }
          },
          "metadata": {},
          "execution_count": 20
        }
      ]
    },
    {
      "cell_type": "code",
      "source": [
        "text_generation(\"그냥\", 12)"
      ],
      "metadata": {
        "colab": {
          "base_uri": "https://localhost:8080/",
          "height": 232
        },
        "id": "ft8Jm4XHZM-B",
        "outputId": "fb3933c4-7c38-47c4-aeab-6a5e87bf18bf"
      },
      "execution_count": 21,
      "outputs": [
        {
          "output_type": "stream",
          "name": "stdout",
          "text": [
            "1/1 [==============================] - 0s 22ms/step\n",
            "1/1 [==============================] - 0s 22ms/step\n",
            "1/1 [==============================] - 0s 22ms/step\n",
            "1/1 [==============================] - 0s 20ms/step\n",
            "1/1 [==============================] - 0s 22ms/step\n",
            "1/1 [==============================] - 0s 21ms/step\n",
            "1/1 [==============================] - 0s 20ms/step\n",
            "1/1 [==============================] - 0s 21ms/step\n",
            "1/1 [==============================] - 0s 21ms/step\n",
            "1/1 [==============================] - 0s 23ms/step\n",
            "1/1 [==============================] - 0s 22ms/step\n"
          ]
        },
        {
          "output_type": "execute_result",
          "data": {
            "text/plain": [
              "'그냥 쓰레기 재미 두 없구 그렇다구 그닥 야하지두 않구 ㅋ ㅋ 너무'"
            ],
            "application/vnd.google.colaboratory.intrinsic+json": {
              "type": "string"
            }
          },
          "metadata": {},
          "execution_count": 21
        }
      ]
    }
  ]
}