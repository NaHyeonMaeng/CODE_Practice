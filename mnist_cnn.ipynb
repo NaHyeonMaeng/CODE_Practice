{
  "nbformat": 4,
  "nbformat_minor": 0,
  "metadata": {
    "colab": {
      "provenance": [],
      "authorship_tag": "ABX9TyOsnMPFjQv4NyaDT1QmBA04",
      "include_colab_link": true
    },
    "kernelspec": {
      "name": "python3",
      "display_name": "Python 3"
    },
    "language_info": {
      "name": "python"
    }
  },
  "cells": [
    {
      "cell_type": "markdown",
      "metadata": {
        "id": "view-in-github",
        "colab_type": "text"
      },
      "source": [
        "<a href=\"https://colab.research.google.com/github/NaHyeonMaeng/CODE_Practice/blob/main/mnist_cnn.ipynb\" target=\"_parent\"><img src=\"https://colab.research.google.com/assets/colab-badge.svg\" alt=\"Open In Colab\"/></a>"
      ]
    },
    {
      "cell_type": "code",
      "execution_count": 1,
      "metadata": {
        "id": "Cz-_UaHMOoEl"
      },
      "outputs": [],
      "source": [
        "#tensorflow 모듈 import\n",
        "import tensorflow as tf"
      ]
    },
    {
      "cell_type": "code",
      "source": [
        "#mnist 손글씨 이미지와 데이터 로드\n",
        "mnist = tf.keras.datasets.mnist\n",
        "(x_train, y_train), (x_valid, y_valid) = mnist.load_data()\n",
        "\n",
        "print(x_train.shape, y_train.shape)\n",
        "print(x_valid.shape, y_valid.shape)"
      ],
      "metadata": {
        "colab": {
          "base_uri": "https://localhost:8080/"
        },
        "id": "q7Y2WditOt3w",
        "outputId": "0edd7bd6-0c77-4a9a-efc3-d90d577a25d1"
      },
      "execution_count": 34,
      "outputs": [
        {
          "output_type": "stream",
          "name": "stdout",
          "text": [
            "(60000, 28, 28) (60000,)\n",
            "(10000, 28, 28) (10000,)\n"
          ]
        }
      ]
    },
    {
      "cell_type": "code",
      "source": [
        "#샘플 이미지 출력\n",
        "import matplotlib.pylab as plt\n",
        "\n",
        "def plot_image(data, idx):\n",
        "  plt.figure(figsize=(5,5))\n",
        "  plt.imshow(data[idx], cmap = \"gray\")\n",
        "  plt.axis(\"off\")\n",
        "  plt.show()\n",
        "\n",
        "plot_image(x_train, 0)"
      ],
      "metadata": {
        "colab": {
          "base_uri": "https://localhost:8080/",
          "height": 422
        },
        "id": "J8SpfTPnPFRc",
        "outputId": "0f371421-0a57-4d50-95b2-d238ce5f1e8c"
      },
      "execution_count": 3,
      "outputs": [
        {
          "output_type": "display_data",
          "data": {
            "text/plain": [
              "<Figure size 500x500 with 1 Axes>"
            ],
            "image/png": "[encoded data removed]"
          },
          "metadata": {}
        }
      ]
    },
    {
      "cell_type": "code",
      "source": [
        "#훈련 셋과 검증 셋의 이미지 픽셀 최솟값, 최댓값 출력\n",
        "print(x_train.min(), x_train.max())\n",
        "print(x_valid.min(), x_valid.max())"
      ],
      "metadata": {
        "colab": {
          "base_uri": "https://localhost:8080/"
        },
        "id": "waeJ5DeyPh2v",
        "outputId": "84dcb015-1041-4a99-9034-060b97a6a681"
      },
      "execution_count": 4,
      "outputs": [
        {
          "output_type": "stream",
          "name": "stdout",
          "text": [
            "0 255\n",
            "0 255\n"
          ]
        }
      ]
    },
    {
      "cell_type": "code",
      "source": [
        "#Normalization\n",
        "x_train = x_train / 255.0\n",
        "x_valid = x_valid / 255.0\n",
        "\n",
        "print(x_train.min(), x_train.max())\n",
        "print(x_valid.min(), x_valid.max())"
      ],
      "metadata": {
        "colab": {
          "base_uri": "https://localhost:8080/"
        },
        "id": "REQOtnKdPq66",
        "outputId": "4402b6fc-c3a9-4960-904c-3cab6ffa439f"
      },
      "execution_count": 5,
      "outputs": [
        {
          "output_type": "stream",
          "name": "stdout",
          "text": [
            "0.0 1.0\n",
            "0.0 1.0\n"
          ]
        }
      ]
    },
    {
      "cell_type": "code",
      "source": [
        "#채널 추가\n",
        "print(x_train.shape, x_valid.shape)\n",
        "\n",
        "x_train_in = x_train[..., tf.newaxis]\n",
        "x_valid_in = x_valid[..., tf.newaxis]\n",
        "\n",
        "print(x_train_in.shape, x_valid_in.shape)"
      ],
      "metadata": {
        "colab": {
          "base_uri": "https://localhost:8080/"
        },
        "id": "93YPDdV7P_LL",
        "outputId": "cc72c2d4-069c-4502-d2b5-46fabcb2932a"
      },
      "execution_count": 6,
      "outputs": [
        {
          "output_type": "stream",
          "name": "stdout",
          "text": [
            "(60000, 28, 28) (10000, 28, 28)\n",
            "(60000, 28, 28, 1) (10000, 28, 28, 1)\n"
          ]
        }
      ]
    },
    {
      "cell_type": "code",
      "source": [
        "#Sequential API를 사용해 샘플 모델 생성\n",
        "model = tf.keras.Sequential([\n",
        "    #Convolution 적용 (32 filters)\n",
        "    tf.keras.layers.Conv2D(32,(3,3),activation = 'relu', input_shape = (28,28,1), name = 'conv'),\n",
        "    #Max Pooling 적용\n",
        "    tf.keras.layers.MaxPooling2D((2,2), name = 'pool'),\n",
        "    #Classifier 출력층\n",
        "    tf.keras.layers.Flatten(),\n",
        "    tf.keras.layers.Dense(10, activation = 'softmax'),\n",
        "])"
      ],
      "metadata": {
        "id": "AudTXQE3Qhud"
      },
      "execution_count": 8,
      "outputs": []
    },
    {
      "cell_type": "code",
      "source": [
        "#모델 컴파일\n",
        "model.compile(optimizer = 'adam', loss = 'sparse_categorical_crossentropy', metrics = ['accuracy'])\n",
        "#모델 훈련\n",
        "history = model.fit(x_train_in, y_train, validation_data=(x_valid_in, y_valid), epochs=10)"
      ],
      "metadata": {
        "colab": {
          "base_uri": "https://localhost:8080/"
        },
        "id": "gi-zlVCGvjkC",
        "outputId": "f958fc64-3027-4314-f38c-80ea3bf22102"
      },
      "execution_count": 9,
      "outputs": [
        {
          "output_type": "stream",
          "name": "stdout",
          "text": [
            "Epoch 1/10\n",
            "1875/1875 [==============================] - 36s 18ms/step - loss: 0.2167 - accuracy: 0.9380 - val_loss: 0.0905 - val_accuracy: 0.9712\n",
            "Epoch 2/10\n",
            "1875/1875 [==============================] - 31s 17ms/step - loss: 0.0792 - accuracy: 0.9775 - val_loss: 0.0665 - val_accuracy: 0.9783\n",
            "Epoch 3/10\n",
            "1875/1875 [==============================] - 34s 18ms/step - loss: 0.0606 - accuracy: 0.9821 - val_loss: 0.0635 - val_accuracy: 0.9803\n",
            "Epoch 4/10\n",
            "1875/1875 [==============================] - 31s 17ms/step - loss: 0.0501 - accuracy: 0.9850 - val_loss: 0.0509 - val_accuracy: 0.9848\n",
            "Epoch 5/10\n",
            "1875/1875 [==============================] - 32s 17ms/step - loss: 0.0419 - accuracy: 0.9870 - val_loss: 0.0572 - val_accuracy: 0.9820\n",
            "Epoch 6/10\n",
            "1875/1875 [==============================] - 31s 16ms/step - loss: 0.0360 - accuracy: 0.9890 - val_loss: 0.0535 - val_accuracy: 0.9828\n",
            "Epoch 7/10\n",
            "1875/1875 [==============================] - 33s 18ms/step - loss: 0.0314 - accuracy: 0.9904 - val_loss: 0.0539 - val_accuracy: 0.9842\n",
            "Epoch 8/10\n",
            "1875/1875 [==============================] - 31s 17ms/step - loss: 0.0263 - accuracy: 0.9920 - val_loss: 0.0561 - val_accuracy: 0.9835\n",
            "Epoch 9/10\n",
            "1875/1875 [==============================] - 35s 19ms/step - loss: 0.0224 - accuracy: 0.9933 - val_loss: 0.0571 - val_accuracy: 0.9838\n",
            "Epoch 10/10\n",
            "1875/1875 [==============================] - 32s 17ms/step - loss: 0.0195 - accuracy: 0.9941 - val_loss: 0.0546 - val_accuracy: 0.9838\n"
          ]
        }
      ]
    },
    {
      "cell_type": "code",
      "source": [
        "#모델 평가\n",
        "model.evaluate(x_valid_in, y_valid)"
      ],
      "metadata": {
        "colab": {
          "base_uri": "https://localhost:8080/"
        },
        "id": "X4IChvZmwUx7",
        "outputId": "ea246fe0-5751-41cb-80e9-39659e325473"
      },
      "execution_count": 11,
      "outputs": [
        {
          "output_type": "stream",
          "name": "stdout",
          "text": [
            "313/313 [==============================] - 2s 6ms/step - loss: 0.0546 - accuracy: 0.9838\n"
          ]
        },
        {
          "output_type": "execute_result",
          "data": {
            "text/plain": [
              "[0.054622333496809006, 0.9837999939918518]"
            ]
          },
          "metadata": {},
          "execution_count": 11
        }
      ]
    },
    {
      "cell_type": "code",
      "source": [
        "#그래프 시각화\n",
        "\n",
        "def plot_loss_acc(history, epoch):\n",
        "\n",
        "  loss, val_loss = history.history['loss'], history.history['val_loss']\n",
        "  acc, val_acc = history.history['accuracy'], history.history['val_accuracy']\n",
        "\n",
        "  fig, axes = plt.subplots(1, 2, figsize = (12, 4))\n",
        "\n",
        "  axes[0].plot(range(1, epoch + 1), loss, label='Training')\n",
        "  axes[0].plot(range(1, epoch + 1), val_loss, label='Validation')\n",
        "  axes[0].legend(loc = 'best')\n",
        "  axes[0].set_title('Loss')\n",
        "\n",
        "  axes[1].plot(range(1, epoch + 1), acc, label = 'Training')\n",
        "  axes[1].plot(range(1, epoch + 1), val_acc, label = 'Validation')\n",
        "  axes[1].legend(loc='best')\n",
        "  axes[1].set_title('Accuracy')\n",
        "\n",
        "  plt.show()\n",
        "\n",
        "plot_loss_acc(history, 10)"
      ],
      "metadata": {
        "colab": {
          "base_uri": "https://localhost:8080/",
          "height": 391
        },
        "id": "uYoX-60xxr32",
        "outputId": "3142e85f-09ef-40e5-d9e6-8515d4f37759"
      },
      "execution_count": 14,
      "outputs": [
        {
          "output_type": "display_data",
          "data": {
            "text/plain": [
              "<Figure size 1200x400 with 2 Axes>"
            ],
            "image/png": "[encoded data removed]"
          },
          "metadata": {}
        }
      ]
    },
    {
      "cell_type": "code",
      "source": [
        "#모델 구조\n",
        "model.summary()"
      ],
      "metadata": {
        "colab": {
          "base_uri": "https://localhost:8080/"
        },
        "id": "LvCeh-2B0PmM",
        "outputId": "c67ac1bc-29d9-4ceb-ffac-9b804e2216cc"
      },
      "execution_count": 15,
      "outputs": [
        {
          "output_type": "stream",
          "name": "stdout",
          "text": [
            "Model: \"sequential\"\n",
            "_________________________________________________________________\n",
            " Layer (type)                Output Shape              Param #   \n",
            "=================================================================\n",
            " conv (Conv2D)               (None, 26, 26, 32)        320       \n",
            "                                                                 \n",
            " pool (MaxPooling2D)         (None, 13, 13, 32)        0         \n",
            "                                                                 \n",
            " flatten (Flatten)           (None, 5408)              0         \n",
            "                                                                 \n",
            " dense (Dense)               (None, 10)                54090     \n",
            "                                                                 \n",
            "=================================================================\n",
            "Total params: 54,410\n",
            "Trainable params: 54,410\n",
            "Non-trainable params: 0\n",
            "_________________________________________________________________\n"
          ]
        }
      ]
    },
    {
      "cell_type": "code",
      "source": [
        "#입력 텐서 형태\n",
        "model.input"
      ],
      "metadata": {
        "colab": {
          "base_uri": "https://localhost:8080/"
        },
        "id": "yVEFyQ902OGk",
        "outputId": "0eacbcd0-ff3a-4523-9ecd-0b0f9577fc9d"
      },
      "execution_count": 16,
      "outputs": [
        {
          "output_type": "execute_result",
          "data": {
            "text/plain": [
              "<KerasTensor: shape=(None, 28, 28, 1) dtype=float32 (created by layer 'conv_input')>"
            ]
          },
          "metadata": {},
          "execution_count": 16
        }
      ]
    },
    {
      "cell_type": "code",
      "source": [
        "#출력 텐서 형태\n",
        "model.output"
      ],
      "metadata": {
        "colab": {
          "base_uri": "https://localhost:8080/"
        },
        "id": "QeuUW1M177GE",
        "outputId": "19377ca5-1752-4c83-802f-ef960ded30bb"
      },
      "execution_count": 17,
      "outputs": [
        {
          "output_type": "execute_result",
          "data": {
            "text/plain": [
              "<KerasTensor: shape=(None, 10) dtype=float32 (created by layer 'dense')>"
            ]
          },
          "metadata": {},
          "execution_count": 17
        }
      ]
    },
    {
      "cell_type": "code",
      "source": [
        "#레이어\n",
        "model.layers"
      ],
      "metadata": {
        "colab": {
          "base_uri": "https://localhost:8080/"
        },
        "id": "Lh_2D5OM7-Ep",
        "outputId": "558914e7-3f14-4201-a931-35d4d2378e3b"
      },
      "execution_count": 18,
      "outputs": [
        {
          "output_type": "execute_result",
          "data": {
            "text/plain": [
              "[<keras.layers.convolutional.conv2d.Conv2D at 0x7f6d09c65c60>,\n",
              " <keras.layers.pooling.max_pooling2d.MaxPooling2D at 0x7f6d09c65de0>,\n",
              " <keras.layers.reshaping.flatten.Flatten at 0x7f6d09c66e30>,\n",
              " <keras.layers.core.dense.Dense at 0x7f6d09c66290>]"
            ]
          },
          "metadata": {},
          "execution_count": 18
        }
      ]
    },
    {
      "cell_type": "code",
      "source": [
        "#첫번째 레이어 선택\n",
        "model.layers[0]"
      ],
      "metadata": {
        "colab": {
          "base_uri": "https://localhost:8080/"
        },
        "id": "r0z88JNh7_z5",
        "outputId": "7b536181-b800-48ef-a904-f532bea84b04"
      },
      "execution_count": 19,
      "outputs": [
        {
          "output_type": "execute_result",
          "data": {
            "text/plain": [
              "<keras.layers.convolutional.conv2d.Conv2D at 0x7f6d09c65c60>"
            ]
          },
          "metadata": {},
          "execution_count": 19
        }
      ]
    },
    {
      "cell_type": "code",
      "source": [
        "#첫번째 레이어 입력\n",
        "model.layers[0].input"
      ],
      "metadata": {
        "colab": {
          "base_uri": "https://localhost:8080/"
        },
        "id": "Ly5QnoBZ8Dpo",
        "outputId": "a1916232-8195-4ccb-b0ec-1145011063fc"
      },
      "execution_count": 20,
      "outputs": [
        {
          "output_type": "execute_result",
          "data": {
            "text/plain": [
              "<KerasTensor: shape=(None, 28, 28, 1) dtype=float32 (created by layer 'conv_input')>"
            ]
          },
          "metadata": {},
          "execution_count": 20
        }
      ]
    },
    {
      "cell_type": "code",
      "source": [
        "#첫번째 레이어 출력\n",
        "model.layers[0].output"
      ],
      "metadata": {
        "colab": {
          "base_uri": "https://localhost:8080/"
        },
        "id": "Osj-MdB08J2u",
        "outputId": "8134eb6f-5660-4592-86f3-d7d0fc5827ae"
      },
      "execution_count": 21,
      "outputs": [
        {
          "output_type": "execute_result",
          "data": {
            "text/plain": [
              "<KerasTensor: shape=(None, 26, 26, 32) dtype=float32 (created by layer 'conv')>"
            ]
          },
          "metadata": {},
          "execution_count": 21
        }
      ]
    },
    {
      "cell_type": "code",
      "source": [
        "#첫번째 레이어 가중치\n",
        "model.layers[0].weights"
      ],
      "metadata": {
        "colab": {
          "base_uri": "https://localhost:8080/"
        },
        "id": "zQtmLZK38ORc",
        "outputId": "2bb9a347-3295-43c8-ce33-2b019be06720"
      },
      "execution_count": 22,
      "outputs": [
        {
          "output_type": "execute_result",
          "data": {
            "text/plain": [
              "[<tf.Variable 'conv/kernel:0' shape=(3, 3, 1, 32) dtype=float32, numpy=\n",
              " array([[[[-1.51137486e-02, -5.84750593e-01,  1.40020534e-01,\n",
              "           -3.08727831e-01,  1.50949284e-01,  1.34706557e-01,\n",
              "           -6.03125930e-01, -1.09887612e+00, -2.90615678e-01,\n",
              "           -2.25481346e-01, -4.63878095e-01,  3.80919307e-01,\n",
              "           -7.71852732e-01,  3.95336419e-01,  3.23636144e-01,\n",
              "            3.59414905e-01, -4.89042848e-01,  7.63827205e-01,\n",
              "            2.56036133e-01, -4.62809466e-02, -2.10057035e-01,\n",
              "            6.85768481e-03, -6.20527118e-02, -1.40849996e+00,\n",
              "            5.27368426e-01,  3.76526490e-02,  3.67857397e-01,\n",
              "           -2.92843521e-01, -4.56241965e-01,  4.40633178e-01,\n",
              "            1.47375345e-01, -1.82036757e-02]],\n",
              " \n",
              "         [[ 3.58381987e-01, -3.20342094e-01,  1.38966992e-01,\n",
              "           -4.61741179e-01, -5.25265574e-01,  7.69443512e-02,\n",
              "            2.56142527e-01,  2.39853095e-02, -5.15877843e-01,\n",
              "            2.93568611e-01, -5.89073375e-02,  1.40958965e-01,\n",
              "           -1.99547149e-02,  7.05941096e-02,  3.25463891e-01,\n",
              "            3.49339426e-01,  9.13452357e-02,  4.04334307e-01,\n",
              "            4.34936851e-01, -3.32233876e-01,  2.80518234e-01,\n",
              "           -3.94115038e-02,  3.02707911e-01, -1.02353907e+00,\n",
              "           -1.45949566e+00,  3.08775067e-01,  7.76259182e-03,\n",
              "           -1.68251172e-01, -8.59915257e-01,  3.42045575e-01,\n",
              "            3.82932097e-01,  2.63941497e-01]],\n",
              " \n",
              "         [[ 6.06979191e-01,  2.17201471e-01, -3.52643669e-01,\n",
              "            1.74233854e-01, -2.01444075e-01, -2.36198470e-01,\n",
              "           -1.45586565e-01,  6.65019572e-01, -4.09831733e-01,\n",
              "            2.58779019e-01,  2.65212059e-01, -5.57635784e-01,\n",
              "            4.22756433e-01, -2.20678449e-01, -1.61181435e-01,\n",
              "           -2.47039229e-01,  2.23358721e-01, -7.96520352e-01,\n",
              "            4.92197931e-01,  1.57399321e-04,  4.21193577e-02,\n",
              "           -1.13649577e-01,  2.01245055e-01, -9.97086763e-01,\n",
              "           -8.20853114e-01,  2.63377666e-01, -9.39869642e-01,\n",
              "            1.19022392e-01, -7.65570939e-01,  2.67624944e-01,\n",
              "            1.95987880e-01,  3.69570702e-01]]],\n",
              " \n",
              " \n",
              "        [[[-1.42839745e-01, -2.54574686e-01, -7.27973506e-02,\n",
              "            5.27304225e-02, -3.12258780e-01,  1.32672310e-01,\n",
              "            1.48537919e-01, -8.83970618e-01,  4.95344341e-01,\n",
              "            1.22072257e-01, -3.21929187e-01,  6.58959001e-02,\n",
              "           -9.18083012e-01, -6.89594671e-02, -2.61061192e-01,\n",
              "           -2.51545846e-01, -3.57622713e-01,  7.23706484e-01,\n",
              "           -5.43884277e-01,  2.65930295e-01,  1.79474920e-01,\n",
              "           -1.02395572e-01, -1.37325853e-01, -5.68237640e-02,\n",
              "           -1.47042084e+00,  4.20459509e-01,  6.29709363e-01,\n",
              "            1.67017698e-01,  5.89626551e-01, -2.86482155e-01,\n",
              "           -1.77906044e-02, -1.27138540e-01]],\n",
              " \n",
              "         [[ 3.20453852e-01,  3.39282662e-01,  2.25405768e-01,\n",
              "            2.50410080e-01, -5.80684133e-02,  3.59668046e-01,\n",
              "            4.40462768e-01, -5.31494737e-01, -3.66259277e-01,\n",
              "            3.14054102e-01,  1.66614369e-01,  7.40560070e-02,\n",
              "            1.70495689e-01,  2.89515018e-01,  4.46800292e-02,\n",
              "            1.57400772e-01,  2.83114403e-01,  8.27381834e-02,\n",
              "           -3.00412141e-02,  2.39136189e-01,  1.36770979e-02,\n",
              "           -1.04221240e-01,  2.25250393e-01,  4.53252673e-01,\n",
              "           -3.59008431e-01,  2.99510151e-01,  1.65349916e-01,\n",
              "            1.45721629e-01,  2.69866705e-01, -6.93885267e-01,\n",
              "            5.30753553e-01,  2.17937544e-01]],\n",
              " \n",
              "         [[ 3.04127216e-01,  3.91275197e-01,  9.94173959e-02,\n",
              "            3.35369438e-01,  3.36162448e-01, -3.25946867e-01,\n",
              "           -1.65410638e-01,  5.19852877e-01, -1.01578164e+00,\n",
              "           -4.44955140e-01,  2.12150544e-01, -1.96675174e-02,\n",
              "            5.90238273e-01,  2.99321920e-01, -8.69940966e-02,\n",
              "            4.77814637e-02,  1.71062559e-01, -1.20599151e+00,\n",
              "           -3.04942101e-01,  2.41280228e-01, -2.95852628e-02,\n",
              "           -1.13404095e-01,  2.19504476e-01, -1.75552100e-01,\n",
              "            7.16885984e-01, -1.79808959e-01, -7.23979652e-01,\n",
              "            1.58271626e-01, -2.89719284e-01, -6.80093050e-01,\n",
              "            3.01643740e-03,  4.50890541e-01]]],\n",
              " \n",
              " \n",
              "        [[[-9.93912518e-01,  2.88931131e-01, -2.18919694e-01,\n",
              "            1.62227407e-01,  2.80093223e-01, -4.70121115e-01,\n",
              "           -4.89931880e-03, -3.05087894e-01,  5.91830552e-01,\n",
              "            2.83004791e-01,  4.62741256e-01, -4.60130453e-01,\n",
              "           -5.58103800e-01, -5.48721313e-01, -2.57973880e-01,\n",
              "           -4.32222694e-01,  1.45624727e-01, -1.62092581e-01,\n",
              "           -5.98611474e-01, -1.14641130e-01,  1.97660401e-01,\n",
              "           -6.84542954e-02, -7.49367297e-01,  3.83320004e-01,\n",
              "           -7.61498094e-01, -6.61389232e-01,  3.78733605e-01,\n",
              "            6.89797699e-02,  4.82437581e-01, -1.49137482e-01,\n",
              "           -9.09573019e-01, -8.69186580e-01]],\n",
              " \n",
              "         [[-7.67438829e-01,  2.38851577e-01,  8.31337925e-03,\n",
              "            9.11887661e-02,  4.65626538e-01,  2.43315190e-01,\n",
              "           -1.15730077e-01, -5.20686626e-01,  6.89604163e-01,\n",
              "            1.85618266e-01,  5.88371232e-02,  2.01607391e-01,\n",
              "            1.43268332e-01, -2.56177098e-01,  2.55206674e-01,\n",
              "           -1.28919795e-01,  3.85657817e-01, -1.05677533e+00,\n",
              "           -6.55447602e-01, -3.04347817e-02, -3.98340076e-01,\n",
              "           -5.27402610e-02, -6.55743301e-01,  4.40300912e-01,\n",
              "            5.10019481e-01, -5.94789207e-01,  3.83191586e-01,\n",
              "            2.58159954e-02,  4.21407461e-01,  3.44770312e-01,\n",
              "           -7.92616844e-01, -4.71644759e-01]],\n",
              " \n",
              "         [[-8.88425052e-01, -6.01987615e-02,  5.45691000e-03,\n",
              "           -3.69955838e-01, -7.35672861e-02,  2.27000892e-01,\n",
              "           -3.11705232e-01,  3.83395314e-01, -9.58311036e-02,\n",
              "           -4.65693265e-01, -7.67452896e-01,  3.85776341e-01,\n",
              "            4.43160564e-01,  3.57651502e-01,  2.64446616e-01,\n",
              "            3.98114800e-01, -2.49020949e-01, -1.15328288e+00,\n",
              "           -5.26901186e-01, -1.58265457e-01,  2.12697789e-01,\n",
              "           -4.22965214e-02,  1.09342150e-01,  3.79565537e-01,\n",
              "            6.27537847e-01, -4.88170713e-01, -3.69798183e-01,\n",
              "           -2.21594140e-01,  1.62963331e-01,  3.80176276e-01,\n",
              "           -1.23885942e+00,  5.36039993e-02]]]], dtype=float32)>,\n",
              " <tf.Variable 'conv/bias:0' shape=(32,) dtype=float32, numpy=\n",
              " array([-0.01032197, -0.3323447 , -0.13716544, -0.17704375, -0.0945845 ,\n",
              "        -0.26076064, -0.00991434, -0.01583145, -0.0081357 , -0.30138826,\n",
              "        -0.0045739 , -0.2723519 , -0.14124022, -0.3758552 , -0.2766709 ,\n",
              "        -0.29088828, -0.29001752,  0.05792715, -0.01751517, -0.17472963,\n",
              "        -0.15948796, -0.00734179, -0.14749338,  0.11763144,  0.11181711,\n",
              "        -0.01247057, -0.10423516, -0.21260823, -0.08021252, -0.01082419,\n",
              "        -0.01326148, -0.15448219], dtype=float32)>]"
            ]
          },
          "metadata": {},
          "execution_count": 22
        }
      ]
    },
    {
      "cell_type": "code",
      "source": [
        "#첫번째 레이어 커널 가중치\n",
        "model.layers[0].kernel"
      ],
      "metadata": {
        "colab": {
          "base_uri": "https://localhost:8080/"
        },
        "id": "Ql67sOTw8TYn",
        "outputId": "32a8ea44-1ceb-42d1-9420-e0b33a6e58cb"
      },
      "execution_count": 23,
      "outputs": [
        {
          "output_type": "execute_result",
          "data": {
            "text/plain": [
              "<tf.Variable 'conv/kernel:0' shape=(3, 3, 1, 32) dtype=float32, numpy=\n",
              "array([[[[-1.51137486e-02, -5.84750593e-01,  1.40020534e-01,\n",
              "          -3.08727831e-01,  1.50949284e-01,  1.34706557e-01,\n",
              "          -6.03125930e-01, -1.09887612e+00, -2.90615678e-01,\n",
              "          -2.25481346e-01, -4.63878095e-01,  3.80919307e-01,\n",
              "          -7.71852732e-01,  3.95336419e-01,  3.23636144e-01,\n",
              "           3.59414905e-01, -4.89042848e-01,  7.63827205e-01,\n",
              "           2.56036133e-01, -4.62809466e-02, -2.10057035e-01,\n",
              "           6.85768481e-03, -6.20527118e-02, -1.40849996e+00,\n",
              "           5.27368426e-01,  3.76526490e-02,  3.67857397e-01,\n",
              "          -2.92843521e-01, -4.56241965e-01,  4.40633178e-01,\n",
              "           1.47375345e-01, -1.82036757e-02]],\n",
              "\n",
              "        [[ 3.58381987e-01, -3.20342094e-01,  1.38966992e-01,\n",
              "          -4.61741179e-01, -5.25265574e-01,  7.69443512e-02,\n",
              "           2.56142527e-01,  2.39853095e-02, -5.15877843e-01,\n",
              "           2.93568611e-01, -5.89073375e-02,  1.40958965e-01,\n",
              "          -1.99547149e-02,  7.05941096e-02,  3.25463891e-01,\n",
              "           3.49339426e-01,  9.13452357e-02,  4.04334307e-01,\n",
              "           4.34936851e-01, -3.32233876e-01,  2.80518234e-01,\n",
              "          -3.94115038e-02,  3.02707911e-01, -1.02353907e+00,\n",
              "          -1.45949566e+00,  3.08775067e-01,  7.76259182e-03,\n",
              "          -1.68251172e-01, -8.59915257e-01,  3.42045575e-01,\n",
              "           3.82932097e-01,  2.63941497e-01]],\n",
              "\n",
              "        [[ 6.06979191e-01,  2.17201471e-01, -3.52643669e-01,\n",
              "           1.74233854e-01, -2.01444075e-01, -2.36198470e-01,\n",
              "          -1.45586565e-01,  6.65019572e-01, -4.09831733e-01,\n",
              "           2.58779019e-01,  2.65212059e-01, -5.57635784e-01,\n",
              "           4.22756433e-01, -2.20678449e-01, -1.61181435e-01,\n",
              "          -2.47039229e-01,  2.23358721e-01, -7.96520352e-01,\n",
              "           4.92197931e-01,  1.57399321e-04,  4.21193577e-02,\n",
              "          -1.13649577e-01,  2.01245055e-01, -9.97086763e-01,\n",
              "          -8.20853114e-01,  2.63377666e-01, -9.39869642e-01,\n",
              "           1.19022392e-01, -7.65570939e-01,  2.67624944e-01,\n",
              "           1.95987880e-01,  3.69570702e-01]]],\n",
              "\n",
              "\n",
              "       [[[-1.42839745e-01, -2.54574686e-01, -7.27973506e-02,\n",
              "           5.27304225e-02, -3.12258780e-01,  1.32672310e-01,\n",
              "           1.48537919e-01, -8.83970618e-01,  4.95344341e-01,\n",
              "           1.22072257e-01, -3.21929187e-01,  6.58959001e-02,\n",
              "          -9.18083012e-01, -6.89594671e-02, -2.61061192e-01,\n",
              "          -2.51545846e-01, -3.57622713e-01,  7.23706484e-01,\n",
              "          -5.43884277e-01,  2.65930295e-01,  1.79474920e-01,\n",
              "          -1.02395572e-01, -1.37325853e-01, -5.68237640e-02,\n",
              "          -1.47042084e+00,  4.20459509e-01,  6.29709363e-01,\n",
              "           1.67017698e-01,  5.89626551e-01, -2.86482155e-01,\n",
              "          -1.77906044e-02, -1.27138540e-01]],\n",
              "\n",
              "        [[ 3.20453852e-01,  3.39282662e-01,  2.25405768e-01,\n",
              "           2.50410080e-01, -5.80684133e-02,  3.59668046e-01,\n",
              "           4.40462768e-01, -5.31494737e-01, -3.66259277e-01,\n",
              "           3.14054102e-01,  1.66614369e-01,  7.40560070e-02,\n",
              "           1.70495689e-01,  2.89515018e-01,  4.46800292e-02,\n",
              "           1.57400772e-01,  2.83114403e-01,  8.27381834e-02,\n",
              "          -3.00412141e-02,  2.39136189e-01,  1.36770979e-02,\n",
              "          -1.04221240e-01,  2.25250393e-01,  4.53252673e-01,\n",
              "          -3.59008431e-01,  2.99510151e-01,  1.65349916e-01,\n",
              "           1.45721629e-01,  2.69866705e-01, -6.93885267e-01,\n",
              "           5.30753553e-01,  2.17937544e-01]],\n",
              "\n",
              "        [[ 3.04127216e-01,  3.91275197e-01,  9.94173959e-02,\n",
              "           3.35369438e-01,  3.36162448e-01, -3.25946867e-01,\n",
              "          -1.65410638e-01,  5.19852877e-01, -1.01578164e+00,\n",
              "          -4.44955140e-01,  2.12150544e-01, -1.96675174e-02,\n",
              "           5.90238273e-01,  2.99321920e-01, -8.69940966e-02,\n",
              "           4.77814637e-02,  1.71062559e-01, -1.20599151e+00,\n",
              "          -3.04942101e-01,  2.41280228e-01, -2.95852628e-02,\n",
              "          -1.13404095e-01,  2.19504476e-01, -1.75552100e-01,\n",
              "           7.16885984e-01, -1.79808959e-01, -7.23979652e-01,\n",
              "           1.58271626e-01, -2.89719284e-01, -6.80093050e-01,\n",
              "           3.01643740e-03,  4.50890541e-01]]],\n",
              "\n",
              "\n",
              "       [[[-9.93912518e-01,  2.88931131e-01, -2.18919694e-01,\n",
              "           1.62227407e-01,  2.80093223e-01, -4.70121115e-01,\n",
              "          -4.89931880e-03, -3.05087894e-01,  5.91830552e-01,\n",
              "           2.83004791e-01,  4.62741256e-01, -4.60130453e-01,\n",
              "          -5.58103800e-01, -5.48721313e-01, -2.57973880e-01,\n",
              "          -4.32222694e-01,  1.45624727e-01, -1.62092581e-01,\n",
              "          -5.98611474e-01, -1.14641130e-01,  1.97660401e-01,\n",
              "          -6.84542954e-02, -7.49367297e-01,  3.83320004e-01,\n",
              "          -7.61498094e-01, -6.61389232e-01,  3.78733605e-01,\n",
              "           6.89797699e-02,  4.82437581e-01, -1.49137482e-01,\n",
              "          -9.09573019e-01, -8.69186580e-01]],\n",
              "\n",
              "        [[-7.67438829e-01,  2.38851577e-01,  8.31337925e-03,\n",
              "           9.11887661e-02,  4.65626538e-01,  2.43315190e-01,\n",
              "          -1.15730077e-01, -5.20686626e-01,  6.89604163e-01,\n",
              "           1.85618266e-01,  5.88371232e-02,  2.01607391e-01,\n",
              "           1.43268332e-01, -2.56177098e-01,  2.55206674e-01,\n",
              "          -1.28919795e-01,  3.85657817e-01, -1.05677533e+00,\n",
              "          -6.55447602e-01, -3.04347817e-02, -3.98340076e-01,\n",
              "          -5.27402610e-02, -6.55743301e-01,  4.40300912e-01,\n",
              "           5.10019481e-01, -5.94789207e-01,  3.83191586e-01,\n",
              "           2.58159954e-02,  4.21407461e-01,  3.44770312e-01,\n",
              "          -7.92616844e-01, -4.71644759e-01]],\n",
              "\n",
              "        [[-8.88425052e-01, -6.01987615e-02,  5.45691000e-03,\n",
              "          -3.69955838e-01, -7.35672861e-02,  2.27000892e-01,\n",
              "          -3.11705232e-01,  3.83395314e-01, -9.58311036e-02,\n",
              "          -4.65693265e-01, -7.67452896e-01,  3.85776341e-01,\n",
              "           4.43160564e-01,  3.57651502e-01,  2.64446616e-01,\n",
              "           3.98114800e-01, -2.49020949e-01, -1.15328288e+00,\n",
              "          -5.26901186e-01, -1.58265457e-01,  2.12697789e-01,\n",
              "          -4.22965214e-02,  1.09342150e-01,  3.79565537e-01,\n",
              "           6.27537847e-01, -4.88170713e-01, -3.69798183e-01,\n",
              "          -2.21594140e-01,  1.62963331e-01,  3.80176276e-01,\n",
              "          -1.23885942e+00,  5.36039993e-02]]]], dtype=float32)>"
            ]
          },
          "metadata": {},
          "execution_count": 23
        }
      ]
    },
    {
      "cell_type": "code",
      "source": [
        "#첫번째 레이어 bias 가중치\n",
        "model.layers[0].bias"
      ],
      "metadata": {
        "colab": {
          "base_uri": "https://localhost:8080/"
        },
        "id": "dlCpYXrE8YHY",
        "outputId": "4de6fc12-93e0-4181-ff76-88b6d21e7e4d"
      },
      "execution_count": 24,
      "outputs": [
        {
          "output_type": "execute_result",
          "data": {
            "text/plain": [
              "<tf.Variable 'conv/bias:0' shape=(32,) dtype=float32, numpy=\n",
              "array([-0.01032197, -0.3323447 , -0.13716544, -0.17704375, -0.0945845 ,\n",
              "       -0.26076064, -0.00991434, -0.01583145, -0.0081357 , -0.30138826,\n",
              "       -0.0045739 , -0.2723519 , -0.14124022, -0.3758552 , -0.2766709 ,\n",
              "       -0.29088828, -0.29001752,  0.05792715, -0.01751517, -0.17472963,\n",
              "       -0.15948796, -0.00734179, -0.14749338,  0.11763144,  0.11181711,\n",
              "       -0.01247057, -0.10423516, -0.21260823, -0.08021252, -0.01082419,\n",
              "       -0.01326148, -0.15448219], dtype=float32)>"
            ]
          },
          "metadata": {},
          "execution_count": 24
        }
      ]
    },
    {
      "cell_type": "code",
      "source": [
        "#레이어 이름 사용하여 레이어 선택\n",
        "model.get_layer('conv')"
      ],
      "metadata": {
        "colab": {
          "base_uri": "https://localhost:8080/"
        },
        "id": "4-nQYA1k8fTb",
        "outputId": "d0b9a0a8-216a-4a42-ab1b-922d4a71580a"
      },
      "execution_count": 25,
      "outputs": [
        {
          "output_type": "execute_result",
          "data": {
            "text/plain": [
              "<keras.layers.convolutional.conv2d.Conv2D at 0x7f6d09c65c60>"
            ]
          },
          "metadata": {},
          "execution_count": 25
        }
      ]
    },
    {
      "cell_type": "code",
      "source": [
        "#샘플 이미지의 레이어별 출력을 리스트에 추가(첫번째, 두번째 레이어)\n",
        "activator = tf.keras.Model(inputs = model.input, outputs = [layer.output for layer in model.layers[:2]])\n",
        "\n",
        "activations = activator.predict(x_train_in[0][tf.newaxis, ...])\n",
        "\n",
        "len(activations)"
      ],
      "metadata": {
        "colab": {
          "base_uri": "https://localhost:8080/"
        },
        "id": "jrYLrpCF8lbz",
        "outputId": "fdbe216e-3477-44ec-9c75-0c888611998b"
      },
      "execution_count": 26,
      "outputs": [
        {
          "output_type": "stream",
          "name": "stdout",
          "text": [
            "1/1 [==============================] - 0s 173ms/step\n"
          ]
        },
        {
          "output_type": "execute_result",
          "data": {
            "text/plain": [
              "2"
            ]
          },
          "metadata": {},
          "execution_count": 26
        }
      ]
    },
    {
      "cell_type": "code",
      "source": [
        "#첫번째 레이어(conv) 출력층\n",
        "conv_activation = activations[0]\n",
        "conv_activation.shape"
      ],
      "metadata": {
        "colab": {
          "base_uri": "https://localhost:8080/"
        },
        "id": "anPxRvUe9G2Y",
        "outputId": "12ba6e1f-cf36-4666-a16d-ca795155a3a6"
      },
      "execution_count": 27,
      "outputs": [
        {
          "output_type": "execute_result",
          "data": {
            "text/plain": [
              "(1, 26, 26, 32)"
            ]
          },
          "metadata": {},
          "execution_count": 27
        }
      ]
    },
    {
      "cell_type": "code",
      "source": [
        "#Convolution 시각화\n",
        "fig, axes = plt.subplots(4,8)\n",
        "fig.set_size_inches(10,5)\n",
        "\n",
        "for i in range(32):\n",
        "  axes[i//8, i%8].matshow(conv_activation[0, :, :, i], cmap = 'viridis')\n",
        "  axes[i//8, i%8].set_title('kernel %s'%str(i), fontsize = 10)\n",
        "  plt.setp(axes[i//8, i%8].get_xticklabels(), visible = False)\n",
        "  plt.setp(axes[i//8, i%8].get_yticklabels(), visible = False)\n",
        "\n",
        "plt.tight_layout()\n",
        "plt.show()"
      ],
      "metadata": {
        "colab": {
          "base_uri": "https://localhost:8080/",
          "height": 508
        },
        "id": "KI5BuPc19mrE",
        "outputId": "3722cad0-f5f1-43fd-d5f8-d8b3620b5172"
      },
      "execution_count": 29,
      "outputs": [
        {
          "output_type": "display_data",
          "data": {
            "text/plain": [
              "<Figure size 1000x500 with 32 Axes>"
            ],
            "image/png": "[encoded data removed]"
          },
          "metadata": {}
        }
      ]
    },
    {
      "cell_type": "code",
      "source": [
        "#두번째 레이어(pool) 출력층\n",
        "pooling_activation = activations[1]\n",
        "print(pooling_activation.shape)"
      ],
      "metadata": {
        "colab": {
          "base_uri": "https://localhost:8080/"
        },
        "id": "bYW4cRBN_QIr",
        "outputId": "790805f2-4f75-431f-e892-f40a084a9bbd"
      },
      "execution_count": 30,
      "outputs": [
        {
          "output_type": "stream",
          "name": "stdout",
          "text": [
            "(1, 13, 13, 32)\n"
          ]
        }
      ]
    },
    {
      "cell_type": "code",
      "source": [
        "#시각화 -> 화소 크기가 굵어짐, 최대 풀링은 인근 픽셀들을 모아서 최대값으로 고정하기 때문에 픽셀 수는 줄이면서 특징을 더욱 강하게 드러냄\n",
        "fig, axes = plt.subplots(4,8)\n",
        "fig.set_size_inches(10,5)\n",
        "\n",
        "for i in range(32):\n",
        "  axes[i//8, i%8].matshow(pooling_activation[0, :, :, i], cmap = 'viridis')\n",
        "  axes[i//8, i%8].set_title('kernel %s'%str(i), fontsize = 10)\n",
        "  plt.setp(axes[i//8, i%8].get_xticklabels(), visible = False)\n",
        "  plt.setp(axes[i//8, i%8].get_yticklabels(), visible = False)\n",
        "\n",
        "plt.tight_layout()\n",
        "plt.show()"
      ],
      "metadata": {
        "colab": {
          "base_uri": "https://localhost:8080/",
          "height": 508
        },
        "id": "aKD7Cuhh_gLX",
        "outputId": "b7eae749-11ac-4ad5-874d-995335e06972"
      },
      "execution_count": 33,
      "outputs": [
        {
          "output_type": "display_data",
          "data": {
            "text/plain": [
              "<Figure size 1000x500 with 32 Axes>"
            ],
            "image/png": "[encoded data removed]"
          },
          "metadata": {}
        }
      ]
    },
    {
      "cell_type": "code",
      "source": [],
      "metadata": {
        "id": "lIhsJ1QC_o7R"
      },
      "execution_count": null,
      "outputs": []
    }
  ]
}